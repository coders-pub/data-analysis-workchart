{
 "cells": [
  {
   "cell_type": "code",
   "execution_count": 1,
   "metadata": {
    "id": "91Jjq-KDmQ1l"
   },
   "outputs": [],
   "source": [
    "#importing libraries and packages\n",
    "import numpy as np\n",
    "import pandas as pd\n",
    "import matplotlib.pyplot as plt\n",
    "%matplotlib inline\n",
    "import seaborn as sns\n",
    "import plotly.express as px"
   ]
  },
  {
   "cell_type": "code",
   "execution_count": 3,
   "metadata": {
    "colab": {
     "base_uri": "https://localhost:8080/",
     "height": 434
    },
    "id": "mdPG4R2dmQ1n",
    "outputId": "f169de51-5638-48a2-f91c-3d449b56fb15"
   },
   "outputs": [
    {
     "data": {
      "text/html": [
       "<div>\n",
       "<style scoped>\n",
       "    .dataframe tbody tr th:only-of-type {\n",
       "        vertical-align: middle;\n",
       "    }\n",
       "\n",
       "    .dataframe tbody tr th {\n",
       "        vertical-align: top;\n",
       "    }\n",
       "\n",
       "    .dataframe thead th {\n",
       "        text-align: right;\n",
       "    }\n",
       "</style>\n",
       "<table border=\"1\" class=\"dataframe\">\n",
       "  <thead>\n",
       "    <tr style=\"text-align: right;\">\n",
       "      <th></th>\n",
       "      <th>Project</th>\n",
       "      <th>Task</th>\n",
       "      <th>Manager</th>\n",
       "      <th>Start Date</th>\n",
       "      <th>Duration</th>\n",
       "      <th>End Date</th>\n",
       "      <th>Days completed</th>\n",
       "      <th>Progress</th>\n",
       "    </tr>\n",
       "  </thead>\n",
       "  <tbody>\n",
       "    <tr>\n",
       "      <th>0</th>\n",
       "      <td>Gemini</td>\n",
       "      <td>Task 1</td>\n",
       "      <td>Hirsch</td>\n",
       "      <td>17-02-2020</td>\n",
       "      <td>5</td>\n",
       "      <td>21-02-2020</td>\n",
       "      <td>2</td>\n",
       "      <td>40%</td>\n",
       "    </tr>\n",
       "    <tr>\n",
       "      <th>1</th>\n",
       "      <td>Gemini</td>\n",
       "      <td>Task 2</td>\n",
       "      <td>Samora</td>\n",
       "      <td>17-02-2020</td>\n",
       "      <td>6</td>\n",
       "      <td>24-02-2020</td>\n",
       "      <td>3</td>\n",
       "      <td>50%</td>\n",
       "    </tr>\n",
       "    <tr>\n",
       "      <th>2</th>\n",
       "      <td>Gemini</td>\n",
       "      <td>Task 3</td>\n",
       "      <td>McFay</td>\n",
       "      <td>18-02-2020</td>\n",
       "      <td>10</td>\n",
       "      <td>02-03-2020</td>\n",
       "      <td>4</td>\n",
       "      <td>40%</td>\n",
       "    </tr>\n",
       "    <tr>\n",
       "      <th>3</th>\n",
       "      <td>Gemini</td>\n",
       "      <td>Task 4</td>\n",
       "      <td>Wood</td>\n",
       "      <td>21-02-2020</td>\n",
       "      <td>9</td>\n",
       "      <td>04-03-2020</td>\n",
       "      <td>3</td>\n",
       "      <td>33%</td>\n",
       "    </tr>\n",
       "    <tr>\n",
       "      <th>4</th>\n",
       "      <td>Gemini</td>\n",
       "      <td>Task 5</td>\n",
       "      <td>Ladd</td>\n",
       "      <td>17-02-2020</td>\n",
       "      <td>4</td>\n",
       "      <td>20-02-2020</td>\n",
       "      <td>1</td>\n",
       "      <td>25%</td>\n",
       "    </tr>\n",
       "  </tbody>\n",
       "</table>\n",
       "</div>"
      ],
      "text/plain": [
       "  Project    Task Manager  Start Date  Duration    End Date  Days completed  \\\n",
       "0  Gemini  Task 1  Hirsch  17-02-2020         5  21-02-2020               2   \n",
       "1  Gemini  Task 2  Samora  17-02-2020         6  24-02-2020               3   \n",
       "2  Gemini  Task 3   McFay  18-02-2020        10  02-03-2020               4   \n",
       "3  Gemini  Task 4    Wood  21-02-2020         9  04-03-2020               3   \n",
       "4  Gemini  Task 5    Ladd  17-02-2020         4  20-02-2020               1   \n",
       "\n",
       "  Progress  \n",
       "0      40%  \n",
       "1      50%  \n",
       "2      40%  \n",
       "3      33%  \n",
       "4      25%  "
      ]
     },
     "execution_count": 3,
     "metadata": {},
     "output_type": "execute_result"
    }
   ],
   "source": [
    "#importing the dataset and removing the columns which wont play any role in further analysis\n",
    "data=pd.read_csv(\"mechonyx.csv\")\n",
    "data=data.drop(['Total','Work to be done for a day','Work done for a day','Unnamed: 11','Unnamed: 12'],axis=1)\n",
    "data.head()"
   ]
  },
  {
   "cell_type": "code",
   "execution_count": 4,
   "metadata": {
    "colab": {
     "base_uri": "https://localhost:8080/",
     "height": 219
    },
    "id": "eWogEBwzmQ1p",
    "outputId": "9cd3c6d4-cf76-4464-8517-1b7df444c554"
   },
   "outputs": [
    {
     "data": {
      "text/plain": [
       "1.0126008312608503e+77"
      ]
     },
     "execution_count": 4,
     "metadata": {},
     "output_type": "execute_result"
    }
   ],
   "source": [
    "#find the average total prograss\n",
    "data[\"Progress\"] = data[\"Progress\"].str.rstrip(\"%\") #stripping off the % symbol to make the data types ,acth. \n",
    "avg_tot_prog=data[\"Progress\"].mean(axis=0)\n",
    "avg_tot_prog"
   ]
  },
  {
   "cell_type": "code",
   "execution_count": 5,
   "metadata": {
    "colab": {
     "base_uri": "https://localhost:8080/"
    },
    "id": "Mp-THnAwmQ1p",
    "outputId": "75511791-998c-4efa-e2fd-21ad9574ed57"
   },
   "outputs": [
    {
     "data": {
      "text/plain": [
       "Project           object\n",
       "Task              object\n",
       "Manager           object\n",
       "Start Date        object\n",
       "Duration           int64\n",
       "End Date          object\n",
       "Days completed     int64\n",
       "Progress          object\n",
       "dtype: object"
      ]
     },
     "execution_count": 5,
     "metadata": {},
     "output_type": "execute_result"
    }
   ],
   "source": [
    "#identifying data types\n",
    "data.dtypes"
   ]
  },
  {
   "cell_type": "code",
   "execution_count": 6,
   "metadata": {
    "colab": {
     "base_uri": "https://localhost:8080/",
     "height": 1000
    },
    "id": "hDdXN1Y-mQ1q",
    "outputId": "9c355cbd-fd66-4e23-d7ff-d8e7a0862a2c"
   },
   "outputs": [
    {
     "data": {
      "text/html": [
       "<div>\n",
       "<style scoped>\n",
       "    .dataframe tbody tr th:only-of-type {\n",
       "        vertical-align: middle;\n",
       "    }\n",
       "\n",
       "    .dataframe tbody tr th {\n",
       "        vertical-align: top;\n",
       "    }\n",
       "\n",
       "    .dataframe thead th {\n",
       "        text-align: right;\n",
       "    }\n",
       "</style>\n",
       "<table border=\"1\" class=\"dataframe\">\n",
       "  <thead>\n",
       "    <tr style=\"text-align: right;\">\n",
       "      <th></th>\n",
       "      <th>Project</th>\n",
       "      <th>Task</th>\n",
       "      <th>Manager</th>\n",
       "      <th>Start Date</th>\n",
       "      <th>Duration</th>\n",
       "      <th>End Date</th>\n",
       "      <th>Days completed</th>\n",
       "      <th>Progress</th>\n",
       "    </tr>\n",
       "  </thead>\n",
       "  <tbody>\n",
       "    <tr>\n",
       "      <th>0</th>\n",
       "      <td>Gemini</td>\n",
       "      <td>Task 1</td>\n",
       "      <td>Hirsch</td>\n",
       "      <td>17-02-2020</td>\n",
       "      <td>5</td>\n",
       "      <td>21-02-2020</td>\n",
       "      <td>2</td>\n",
       "      <td>40</td>\n",
       "    </tr>\n",
       "    <tr>\n",
       "      <th>1</th>\n",
       "      <td>Gemini</td>\n",
       "      <td>Task 2</td>\n",
       "      <td>Samora</td>\n",
       "      <td>17-02-2020</td>\n",
       "      <td>6</td>\n",
       "      <td>24-02-2020</td>\n",
       "      <td>3</td>\n",
       "      <td>50</td>\n",
       "    </tr>\n",
       "    <tr>\n",
       "      <th>2</th>\n",
       "      <td>Gemini</td>\n",
       "      <td>Task 3</td>\n",
       "      <td>McFay</td>\n",
       "      <td>18-02-2020</td>\n",
       "      <td>10</td>\n",
       "      <td>02-03-2020</td>\n",
       "      <td>4</td>\n",
       "      <td>40</td>\n",
       "    </tr>\n",
       "    <tr>\n",
       "      <th>3</th>\n",
       "      <td>Gemini</td>\n",
       "      <td>Task 4</td>\n",
       "      <td>Wood</td>\n",
       "      <td>21-02-2020</td>\n",
       "      <td>9</td>\n",
       "      <td>04-03-2020</td>\n",
       "      <td>3</td>\n",
       "      <td>33</td>\n",
       "    </tr>\n",
       "    <tr>\n",
       "      <th>4</th>\n",
       "      <td>Gemini</td>\n",
       "      <td>Task 5</td>\n",
       "      <td>Ladd</td>\n",
       "      <td>17-02-2020</td>\n",
       "      <td>4</td>\n",
       "      <td>20-02-2020</td>\n",
       "      <td>1</td>\n",
       "      <td>25</td>\n",
       "    </tr>\n",
       "    <tr>\n",
       "      <th>5</th>\n",
       "      <td>Gemini</td>\n",
       "      <td>Task 6</td>\n",
       "      <td>Hirsch</td>\n",
       "      <td>20-02-2020</td>\n",
       "      <td>6</td>\n",
       "      <td>27-02-2020</td>\n",
       "      <td>0</td>\n",
       "      <td>0</td>\n",
       "    </tr>\n",
       "    <tr>\n",
       "      <th>6</th>\n",
       "      <td>Gemini</td>\n",
       "      <td>Task 7</td>\n",
       "      <td>Samora</td>\n",
       "      <td>20-02-2020</td>\n",
       "      <td>7</td>\n",
       "      <td>28-02-2020</td>\n",
       "      <td>3</td>\n",
       "      <td>43</td>\n",
       "    </tr>\n",
       "    <tr>\n",
       "      <th>7</th>\n",
       "      <td>Gemini</td>\n",
       "      <td>Task 8</td>\n",
       "      <td>McFay</td>\n",
       "      <td>24-02-2020</td>\n",
       "      <td>5</td>\n",
       "      <td>28-02-2020</td>\n",
       "      <td>2</td>\n",
       "      <td>40</td>\n",
       "    </tr>\n",
       "    <tr>\n",
       "      <th>8</th>\n",
       "      <td>Gemini</td>\n",
       "      <td>Task 9</td>\n",
       "      <td>Wood</td>\n",
       "      <td>24-02-2020</td>\n",
       "      <td>9</td>\n",
       "      <td>05-03-2020</td>\n",
       "      <td>1</td>\n",
       "      <td>11</td>\n",
       "    </tr>\n",
       "    <tr>\n",
       "      <th>9</th>\n",
       "      <td>Gemini</td>\n",
       "      <td>Task 10</td>\n",
       "      <td>Ladd</td>\n",
       "      <td>24-02-2020</td>\n",
       "      <td>6</td>\n",
       "      <td>02-03-2020</td>\n",
       "      <td>3</td>\n",
       "      <td>50</td>\n",
       "    </tr>\n",
       "    <tr>\n",
       "      <th>10</th>\n",
       "      <td>Orion</td>\n",
       "      <td>Task 1</td>\n",
       "      <td>Hirsch</td>\n",
       "      <td>18-02-2020</td>\n",
       "      <td>7</td>\n",
       "      <td>26-02-2020</td>\n",
       "      <td>7</td>\n",
       "      <td>100</td>\n",
       "    </tr>\n",
       "    <tr>\n",
       "      <th>11</th>\n",
       "      <td>Orion</td>\n",
       "      <td>Task 2</td>\n",
       "      <td>Samora</td>\n",
       "      <td>17-02-2020</td>\n",
       "      <td>9</td>\n",
       "      <td>27-02-2020</td>\n",
       "      <td>4</td>\n",
       "      <td>44</td>\n",
       "    </tr>\n",
       "    <tr>\n",
       "      <th>12</th>\n",
       "      <td>Orion</td>\n",
       "      <td>Task 3</td>\n",
       "      <td>McFay</td>\n",
       "      <td>18-02-2020</td>\n",
       "      <td>8</td>\n",
       "      <td>27-02-2020</td>\n",
       "      <td>0</td>\n",
       "      <td>0</td>\n",
       "    </tr>\n",
       "    <tr>\n",
       "      <th>13</th>\n",
       "      <td>Orion</td>\n",
       "      <td>Task 4</td>\n",
       "      <td>Wood</td>\n",
       "      <td>20-02-2020</td>\n",
       "      <td>7</td>\n",
       "      <td>28-02-2020</td>\n",
       "      <td>3</td>\n",
       "      <td>43</td>\n",
       "    </tr>\n",
       "    <tr>\n",
       "      <th>14</th>\n",
       "      <td>Orion</td>\n",
       "      <td>Task 5</td>\n",
       "      <td>Ladd</td>\n",
       "      <td>21-02-2020</td>\n",
       "      <td>4</td>\n",
       "      <td>26-02-2020</td>\n",
       "      <td>1</td>\n",
       "      <td>25</td>\n",
       "    </tr>\n",
       "    <tr>\n",
       "      <th>15</th>\n",
       "      <td>Orion</td>\n",
       "      <td>Task 6</td>\n",
       "      <td>Hirsch</td>\n",
       "      <td>21-02-2020</td>\n",
       "      <td>6</td>\n",
       "      <td>28-02-2020</td>\n",
       "      <td>3</td>\n",
       "      <td>50</td>\n",
       "    </tr>\n",
       "    <tr>\n",
       "      <th>16</th>\n",
       "      <td>Orion</td>\n",
       "      <td>Task 7</td>\n",
       "      <td>Samora</td>\n",
       "      <td>24-02-2020</td>\n",
       "      <td>6</td>\n",
       "      <td>02-03-2020</td>\n",
       "      <td>5</td>\n",
       "      <td>83</td>\n",
       "    </tr>\n",
       "    <tr>\n",
       "      <th>17</th>\n",
       "      <td>Orion</td>\n",
       "      <td>Task 8</td>\n",
       "      <td>McFay</td>\n",
       "      <td>25-02-2020</td>\n",
       "      <td>4</td>\n",
       "      <td>28-02-2020</td>\n",
       "      <td>1</td>\n",
       "      <td>25</td>\n",
       "    </tr>\n",
       "    <tr>\n",
       "      <th>18</th>\n",
       "      <td>Orion</td>\n",
       "      <td>Task 9</td>\n",
       "      <td>Wood</td>\n",
       "      <td>27-02-2020</td>\n",
       "      <td>7</td>\n",
       "      <td>06-03-2020</td>\n",
       "      <td>3</td>\n",
       "      <td>43</td>\n",
       "    </tr>\n",
       "    <tr>\n",
       "      <th>19</th>\n",
       "      <td>Orion</td>\n",
       "      <td>Task 10</td>\n",
       "      <td>Ladd</td>\n",
       "      <td>17-02-2020</td>\n",
       "      <td>3</td>\n",
       "      <td>19-02-2020</td>\n",
       "      <td>3</td>\n",
       "      <td>100</td>\n",
       "    </tr>\n",
       "    <tr>\n",
       "      <th>20</th>\n",
       "      <td>Vega</td>\n",
       "      <td>Task 1</td>\n",
       "      <td>Hirsch</td>\n",
       "      <td>17-02-2020</td>\n",
       "      <td>10</td>\n",
       "      <td>28-02-2020</td>\n",
       "      <td>5</td>\n",
       "      <td>50</td>\n",
       "    </tr>\n",
       "    <tr>\n",
       "      <th>21</th>\n",
       "      <td>Vega</td>\n",
       "      <td>Task 2</td>\n",
       "      <td>Samora</td>\n",
       "      <td>21-02-2020</td>\n",
       "      <td>5</td>\n",
       "      <td>27-02-2020</td>\n",
       "      <td>4</td>\n",
       "      <td>80</td>\n",
       "    </tr>\n",
       "    <tr>\n",
       "      <th>22</th>\n",
       "      <td>Vega</td>\n",
       "      <td>Task 3</td>\n",
       "      <td>McFay</td>\n",
       "      <td>24-02-2020</td>\n",
       "      <td>7</td>\n",
       "      <td>03-03-2020</td>\n",
       "      <td>3</td>\n",
       "      <td>43</td>\n",
       "    </tr>\n",
       "    <tr>\n",
       "      <th>23</th>\n",
       "      <td>Vega</td>\n",
       "      <td>Task 4</td>\n",
       "      <td>Wood</td>\n",
       "      <td>26-02-2020</td>\n",
       "      <td>7</td>\n",
       "      <td>05-03-2020</td>\n",
       "      <td>2</td>\n",
       "      <td>29</td>\n",
       "    </tr>\n",
       "    <tr>\n",
       "      <th>24</th>\n",
       "      <td>Vega</td>\n",
       "      <td>Task 5</td>\n",
       "      <td>Ladd</td>\n",
       "      <td>28-02-2020</td>\n",
       "      <td>3</td>\n",
       "      <td>03-03-2020</td>\n",
       "      <td>2</td>\n",
       "      <td>67</td>\n",
       "    </tr>\n",
       "    <tr>\n",
       "      <th>25</th>\n",
       "      <td>Delta</td>\n",
       "      <td>Task 1</td>\n",
       "      <td>Hirsch</td>\n",
       "      <td>02-03-2020</td>\n",
       "      <td>9</td>\n",
       "      <td>12-03-2020</td>\n",
       "      <td>8</td>\n",
       "      <td>89</td>\n",
       "    </tr>\n",
       "    <tr>\n",
       "      <th>26</th>\n",
       "      <td>Delta</td>\n",
       "      <td>Task 2</td>\n",
       "      <td>Samora</td>\n",
       "      <td>02-03-2020</td>\n",
       "      <td>10</td>\n",
       "      <td>13-03-2020</td>\n",
       "      <td>2</td>\n",
       "      <td>20</td>\n",
       "    </tr>\n",
       "    <tr>\n",
       "      <th>27</th>\n",
       "      <td>Delta</td>\n",
       "      <td>Task 3</td>\n",
       "      <td>McFay</td>\n",
       "      <td>17-02-2020</td>\n",
       "      <td>4</td>\n",
       "      <td>20-02-2020</td>\n",
       "      <td>0</td>\n",
       "      <td>0</td>\n",
       "    </tr>\n",
       "    <tr>\n",
       "      <th>28</th>\n",
       "      <td>Delta</td>\n",
       "      <td>Task 4</td>\n",
       "      <td>Wood</td>\n",
       "      <td>19-02-2020</td>\n",
       "      <td>8</td>\n",
       "      <td>28-02-2020</td>\n",
       "      <td>5</td>\n",
       "      <td>63</td>\n",
       "    </tr>\n",
       "    <tr>\n",
       "      <th>29</th>\n",
       "      <td>Delta</td>\n",
       "      <td>Task 5</td>\n",
       "      <td>Ladd</td>\n",
       "      <td>24-02-2020</td>\n",
       "      <td>10</td>\n",
       "      <td>06-03-2020</td>\n",
       "      <td>3</td>\n",
       "      <td>30</td>\n",
       "    </tr>\n",
       "    <tr>\n",
       "      <th>30</th>\n",
       "      <td>Delta</td>\n",
       "      <td>Task 6</td>\n",
       "      <td>Hirsch</td>\n",
       "      <td>25-02-2020</td>\n",
       "      <td>6</td>\n",
       "      <td>03-03-2020</td>\n",
       "      <td>3</td>\n",
       "      <td>50</td>\n",
       "    </tr>\n",
       "    <tr>\n",
       "      <th>31</th>\n",
       "      <td>Delta</td>\n",
       "      <td>Task 7</td>\n",
       "      <td>Samora</td>\n",
       "      <td>25-02-2020</td>\n",
       "      <td>4</td>\n",
       "      <td>28-02-2020</td>\n",
       "      <td>2</td>\n",
       "      <td>50</td>\n",
       "    </tr>\n",
       "    <tr>\n",
       "      <th>32</th>\n",
       "      <td>Alpha</td>\n",
       "      <td>Task 1</td>\n",
       "      <td>McFay</td>\n",
       "      <td>28-02-2020</td>\n",
       "      <td>8</td>\n",
       "      <td>10-03-2020</td>\n",
       "      <td>3</td>\n",
       "      <td>38</td>\n",
       "    </tr>\n",
       "    <tr>\n",
       "      <th>33</th>\n",
       "      <td>Alpha</td>\n",
       "      <td>Task 2</td>\n",
       "      <td>Wood</td>\n",
       "      <td>02-03-2020</td>\n",
       "      <td>9</td>\n",
       "      <td>12-03-2020</td>\n",
       "      <td>4</td>\n",
       "      <td>44</td>\n",
       "    </tr>\n",
       "    <tr>\n",
       "      <th>34</th>\n",
       "      <td>Alpha</td>\n",
       "      <td>Task 3</td>\n",
       "      <td>Ladd</td>\n",
       "      <td>20-02-2020</td>\n",
       "      <td>5</td>\n",
       "      <td>26-02-2020</td>\n",
       "      <td>3</td>\n",
       "      <td>60</td>\n",
       "    </tr>\n",
       "    <tr>\n",
       "      <th>35</th>\n",
       "      <td>Alpha</td>\n",
       "      <td>Task 4</td>\n",
       "      <td>Hirsch</td>\n",
       "      <td>19-02-2020</td>\n",
       "      <td>3</td>\n",
       "      <td>21-02-2020</td>\n",
       "      <td>3</td>\n",
       "      <td>100</td>\n",
       "    </tr>\n",
       "    <tr>\n",
       "      <th>36</th>\n",
       "      <td>Alpha</td>\n",
       "      <td>Task 5</td>\n",
       "      <td>Samora</td>\n",
       "      <td>21-02-2020</td>\n",
       "      <td>7</td>\n",
       "      <td>02-03-2020</td>\n",
       "      <td>3</td>\n",
       "      <td>43</td>\n",
       "    </tr>\n",
       "    <tr>\n",
       "      <th>37</th>\n",
       "      <td>Alpha</td>\n",
       "      <td>Task 6</td>\n",
       "      <td>McFay</td>\n",
       "      <td>24-02-2020</td>\n",
       "      <td>10</td>\n",
       "      <td>06-03-2020</td>\n",
       "      <td>2</td>\n",
       "      <td>20</td>\n",
       "    </tr>\n",
       "    <tr>\n",
       "      <th>38</th>\n",
       "      <td>Alpha</td>\n",
       "      <td>Task 7</td>\n",
       "      <td>Wood</td>\n",
       "      <td>24-02-2020</td>\n",
       "      <td>10</td>\n",
       "      <td>06-03-2020</td>\n",
       "      <td>3</td>\n",
       "      <td>30</td>\n",
       "    </tr>\n",
       "    <tr>\n",
       "      <th>39</th>\n",
       "      <td>Alpha</td>\n",
       "      <td>Task 8</td>\n",
       "      <td>Ladd</td>\n",
       "      <td>24-02-2020</td>\n",
       "      <td>3</td>\n",
       "      <td>26-02-2020</td>\n",
       "      <td>0</td>\n",
       "      <td>0</td>\n",
       "    </tr>\n",
       "  </tbody>\n",
       "</table>\n",
       "</div>"
      ],
      "text/plain": [
       "   Project     Task Manager  Start Date  Duration    End Date  Days completed  \\\n",
       "0   Gemini   Task 1  Hirsch  17-02-2020         5  21-02-2020               2   \n",
       "1   Gemini   Task 2  Samora  17-02-2020         6  24-02-2020               3   \n",
       "2   Gemini   Task 3   McFay  18-02-2020        10  02-03-2020               4   \n",
       "3   Gemini   Task 4    Wood  21-02-2020         9  04-03-2020               3   \n",
       "4   Gemini   Task 5    Ladd  17-02-2020         4  20-02-2020               1   \n",
       "5   Gemini   Task 6  Hirsch  20-02-2020         6  27-02-2020               0   \n",
       "6   Gemini   Task 7  Samora  20-02-2020         7  28-02-2020               3   \n",
       "7   Gemini   Task 8   McFay  24-02-2020         5  28-02-2020               2   \n",
       "8   Gemini   Task 9    Wood  24-02-2020         9  05-03-2020               1   \n",
       "9   Gemini  Task 10    Ladd  24-02-2020         6  02-03-2020               3   \n",
       "10   Orion   Task 1  Hirsch  18-02-2020         7  26-02-2020               7   \n",
       "11   Orion   Task 2  Samora  17-02-2020         9  27-02-2020               4   \n",
       "12   Orion   Task 3   McFay  18-02-2020         8  27-02-2020               0   \n",
       "13   Orion   Task 4    Wood  20-02-2020         7  28-02-2020               3   \n",
       "14   Orion   Task 5    Ladd  21-02-2020         4  26-02-2020               1   \n",
       "15   Orion   Task 6  Hirsch  21-02-2020         6  28-02-2020               3   \n",
       "16   Orion   Task 7  Samora  24-02-2020         6  02-03-2020               5   \n",
       "17   Orion   Task 8   McFay  25-02-2020         4  28-02-2020               1   \n",
       "18   Orion   Task 9    Wood  27-02-2020         7  06-03-2020               3   \n",
       "19   Orion  Task 10    Ladd  17-02-2020         3  19-02-2020               3   \n",
       "20    Vega   Task 1  Hirsch  17-02-2020        10  28-02-2020               5   \n",
       "21    Vega   Task 2  Samora  21-02-2020         5  27-02-2020               4   \n",
       "22    Vega   Task 3   McFay  24-02-2020         7  03-03-2020               3   \n",
       "23    Vega   Task 4    Wood  26-02-2020         7  05-03-2020               2   \n",
       "24    Vega   Task 5    Ladd  28-02-2020         3  03-03-2020               2   \n",
       "25   Delta   Task 1  Hirsch  02-03-2020         9  12-03-2020               8   \n",
       "26   Delta   Task 2  Samora  02-03-2020        10  13-03-2020               2   \n",
       "27   Delta   Task 3   McFay  17-02-2020         4  20-02-2020               0   \n",
       "28   Delta   Task 4    Wood  19-02-2020         8  28-02-2020               5   \n",
       "29   Delta   Task 5    Ladd  24-02-2020        10  06-03-2020               3   \n",
       "30   Delta   Task 6  Hirsch  25-02-2020         6  03-03-2020               3   \n",
       "31   Delta   Task 7  Samora  25-02-2020         4  28-02-2020               2   \n",
       "32   Alpha   Task 1   McFay  28-02-2020         8  10-03-2020               3   \n",
       "33   Alpha   Task 2    Wood  02-03-2020         9  12-03-2020               4   \n",
       "34   Alpha   Task 3    Ladd  20-02-2020         5  26-02-2020               3   \n",
       "35   Alpha   Task 4  Hirsch  19-02-2020         3  21-02-2020               3   \n",
       "36   Alpha   Task 5  Samora  21-02-2020         7  02-03-2020               3   \n",
       "37   Alpha   Task 6   McFay  24-02-2020        10  06-03-2020               2   \n",
       "38   Alpha   Task 7    Wood  24-02-2020        10  06-03-2020               3   \n",
       "39   Alpha   Task 8    Ladd  24-02-2020         3  26-02-2020               0   \n",
       "\n",
       "    Progress  \n",
       "0         40  \n",
       "1         50  \n",
       "2         40  \n",
       "3         33  \n",
       "4         25  \n",
       "5          0  \n",
       "6         43  \n",
       "7         40  \n",
       "8         11  \n",
       "9         50  \n",
       "10       100  \n",
       "11        44  \n",
       "12         0  \n",
       "13        43  \n",
       "14        25  \n",
       "15        50  \n",
       "16        83  \n",
       "17        25  \n",
       "18        43  \n",
       "19       100  \n",
       "20        50  \n",
       "21        80  \n",
       "22        43  \n",
       "23        29  \n",
       "24        67  \n",
       "25        89  \n",
       "26        20  \n",
       "27         0  \n",
       "28        63  \n",
       "29        30  \n",
       "30        50  \n",
       "31        50  \n",
       "32        38  \n",
       "33        44  \n",
       "34        60  \n",
       "35       100  \n",
       "36        43  \n",
       "37        20  \n",
       "38        30  \n",
       "39         0  "
      ]
     },
     "execution_count": 6,
     "metadata": {},
     "output_type": "execute_result"
    }
   ],
   "source": [
    "data.Progress=data.Progress.astype('int')\n",
    "data"
   ]
  },
  {
   "cell_type": "code",
   "execution_count": 7,
   "metadata": {
    "colab": {
     "base_uri": "https://localhost:8080/"
    },
    "id": "lEmISBqYmQ1q",
    "outputId": "c6886cf9-df68-42bf-ff2d-9857a83e3181"
   },
   "outputs": [
    {
     "data": {
      "text/plain": [
       "Project           object\n",
       "Task              object\n",
       "Manager           object\n",
       "Start Date        object\n",
       "Duration           int64\n",
       "End Date          object\n",
       "Days completed     int64\n",
       "Progress           int32\n",
       "dtype: object"
      ]
     },
     "execution_count": 7,
     "metadata": {},
     "output_type": "execute_result"
    }
   ],
   "source": [
    "data.dtypes"
   ]
  },
  {
   "cell_type": "markdown",
   "metadata": {
    "id": "59ZUL-4amQ1q"
   },
   "source": [
    "## Analysis based on the project"
   ]
  },
  {
   "cell_type": "markdown",
   "metadata": {
    "id": "cj7rHUa3mQ1r"
   },
   "source": [
    "### According to the user input of project "
   ]
  },
  {
   "cell_type": "code",
   "execution_count": 8,
   "metadata": {
    "colab": {
     "base_uri": "https://localhost:8080/",
     "height": 311
    },
    "id": "hADr_IlxmQ1r",
    "outputId": "731b3c91-1504-44b0-b94c-35262dddc7c2"
   },
   "outputs": [
    {
     "name": "stdout",
     "output_type": "stream",
     "text": [
      "alpha\n"
     ]
    },
    {
     "data": {
      "text/html": [
       "<div>\n",
       "<style scoped>\n",
       "    .dataframe tbody tr th:only-of-type {\n",
       "        vertical-align: middle;\n",
       "    }\n",
       "\n",
       "    .dataframe tbody tr th {\n",
       "        vertical-align: top;\n",
       "    }\n",
       "\n",
       "    .dataframe thead th {\n",
       "        text-align: right;\n",
       "    }\n",
       "</style>\n",
       "<table border=\"1\" class=\"dataframe\">\n",
       "  <thead>\n",
       "    <tr style=\"text-align: right;\">\n",
       "      <th></th>\n",
       "      <th>Project</th>\n",
       "      <th>Task</th>\n",
       "      <th>Manager</th>\n",
       "      <th>Start Date</th>\n",
       "      <th>Duration</th>\n",
       "      <th>End Date</th>\n",
       "      <th>Days completed</th>\n",
       "      <th>Progress</th>\n",
       "    </tr>\n",
       "  </thead>\n",
       "  <tbody>\n",
       "    <tr>\n",
       "      <th>32</th>\n",
       "      <td>Alpha</td>\n",
       "      <td>Task 1</td>\n",
       "      <td>McFay</td>\n",
       "      <td>28-02-2020</td>\n",
       "      <td>8</td>\n",
       "      <td>10-03-2020</td>\n",
       "      <td>3</td>\n",
       "      <td>38</td>\n",
       "    </tr>\n",
       "    <tr>\n",
       "      <th>33</th>\n",
       "      <td>Alpha</td>\n",
       "      <td>Task 2</td>\n",
       "      <td>Wood</td>\n",
       "      <td>02-03-2020</td>\n",
       "      <td>9</td>\n",
       "      <td>12-03-2020</td>\n",
       "      <td>4</td>\n",
       "      <td>44</td>\n",
       "    </tr>\n",
       "    <tr>\n",
       "      <th>34</th>\n",
       "      <td>Alpha</td>\n",
       "      <td>Task 3</td>\n",
       "      <td>Ladd</td>\n",
       "      <td>20-02-2020</td>\n",
       "      <td>5</td>\n",
       "      <td>26-02-2020</td>\n",
       "      <td>3</td>\n",
       "      <td>60</td>\n",
       "    </tr>\n",
       "    <tr>\n",
       "      <th>35</th>\n",
       "      <td>Alpha</td>\n",
       "      <td>Task 4</td>\n",
       "      <td>Hirsch</td>\n",
       "      <td>19-02-2020</td>\n",
       "      <td>3</td>\n",
       "      <td>21-02-2020</td>\n",
       "      <td>3</td>\n",
       "      <td>100</td>\n",
       "    </tr>\n",
       "    <tr>\n",
       "      <th>36</th>\n",
       "      <td>Alpha</td>\n",
       "      <td>Task 5</td>\n",
       "      <td>Samora</td>\n",
       "      <td>21-02-2020</td>\n",
       "      <td>7</td>\n",
       "      <td>02-03-2020</td>\n",
       "      <td>3</td>\n",
       "      <td>43</td>\n",
       "    </tr>\n",
       "    <tr>\n",
       "      <th>37</th>\n",
       "      <td>Alpha</td>\n",
       "      <td>Task 6</td>\n",
       "      <td>McFay</td>\n",
       "      <td>24-02-2020</td>\n",
       "      <td>10</td>\n",
       "      <td>06-03-2020</td>\n",
       "      <td>2</td>\n",
       "      <td>20</td>\n",
       "    </tr>\n",
       "    <tr>\n",
       "      <th>38</th>\n",
       "      <td>Alpha</td>\n",
       "      <td>Task 7</td>\n",
       "      <td>Wood</td>\n",
       "      <td>24-02-2020</td>\n",
       "      <td>10</td>\n",
       "      <td>06-03-2020</td>\n",
       "      <td>3</td>\n",
       "      <td>30</td>\n",
       "    </tr>\n",
       "    <tr>\n",
       "      <th>39</th>\n",
       "      <td>Alpha</td>\n",
       "      <td>Task 8</td>\n",
       "      <td>Ladd</td>\n",
       "      <td>24-02-2020</td>\n",
       "      <td>3</td>\n",
       "      <td>26-02-2020</td>\n",
       "      <td>0</td>\n",
       "      <td>0</td>\n",
       "    </tr>\n",
       "  </tbody>\n",
       "</table>\n",
       "</div>"
      ],
      "text/plain": [
       "   Project    Task Manager  Start Date  Duration    End Date  Days completed  \\\n",
       "32   Alpha  Task 1   McFay  28-02-2020         8  10-03-2020               3   \n",
       "33   Alpha  Task 2    Wood  02-03-2020         9  12-03-2020               4   \n",
       "34   Alpha  Task 3    Ladd  20-02-2020         5  26-02-2020               3   \n",
       "35   Alpha  Task 4  Hirsch  19-02-2020         3  21-02-2020               3   \n",
       "36   Alpha  Task 5  Samora  21-02-2020         7  02-03-2020               3   \n",
       "37   Alpha  Task 6   McFay  24-02-2020        10  06-03-2020               2   \n",
       "38   Alpha  Task 7    Wood  24-02-2020        10  06-03-2020               3   \n",
       "39   Alpha  Task 8    Ladd  24-02-2020         3  26-02-2020               0   \n",
       "\n",
       "    Progress  \n",
       "32        38  \n",
       "33        44  \n",
       "34        60  \n",
       "35       100  \n",
       "36        43  \n",
       "37        20  \n",
       "38        30  \n",
       "39         0  "
      ]
     },
     "execution_count": 8,
     "metadata": {},
     "output_type": "execute_result"
    }
   ],
   "source": [
    "lp=['Alpha','Delta','Orion','Vega','Gemini']\n",
    "\n",
    "while True:\n",
    "    reqd=input()\n",
    "    reqd=reqd.capitalize() #capitalizes the first letter of the word automatically\n",
    "    if(reqd in lp):\n",
    "        break\n",
    "filt1=(data['Project'] == reqd ) #filter out the required project\n",
    "data1=data[filt1]\n",
    "data1\n"
   ]
  },
  {
   "cell_type": "code",
   "execution_count": 9,
   "metadata": {
    "colab": {
     "base_uri": "https://localhost:8080/"
    },
    "id": "CS4ROmVxmQ1s",
    "outputId": "6bec98fa-5d0b-4366-9356-43f61f670d62"
   },
   "outputs": [
    {
     "data": {
      "text/plain": [
       "41.875"
      ]
     },
     "execution_count": 9,
     "metadata": {},
     "output_type": "execute_result"
    }
   ],
   "source": [
    "avg_prog=data1[\"Progress\"].mean(axis=0)\n",
    "avg_prog"
   ]
  },
  {
   "cell_type": "code",
   "execution_count": null,
   "metadata": {
    "colab": {
     "base_uri": "https://localhost:8080/",
     "height": 285
    },
    "id": "Qxzb8kwdmQ1s",
    "outputId": "e800daa4-5926-427d-b60d-e8ae2c5a932e"
   },
   "outputs": [
    {
     "data": {
      "image/png": "[encoded data removed]",
      "text/plain": [
       "<Figure size 432x288 with 1 Axes>"
      ]
     },
     "metadata": {
      "tags": []
     },
     "output_type": "display_data"
    }
   ],
   "source": [
    "sns.set()\n",
    "data1.pivot_table('Progress', index='Task', columns='Project', aggfunc='mean').plot() #use the pivot table formation for graph \n",
    "plt.ylabel('Average progress');\n",
    "plt.legend(loc='upper left',bbox_to_anchor=(1,1));"
   ]
  },
  {
   "cell_type": "markdown",
   "metadata": {
    "id": "pllCuSyTmQ1s"
   },
   "source": [
    "## overall progress for each task"
   ]
  },
  {
   "cell_type": "code",
   "execution_count": null,
   "metadata": {
    "colab": {
     "base_uri": "https://localhost:8080/",
     "height": 542
    },
    "id": "IBIZGhN7mQ1t",
    "outputId": "614419ad-da8d-4dba-96ff-6038db089d66"
   },
   "outputs": [
    {
     "data": {
      "text/html": [
       "<html>\n",
       "<head><meta charset=\"utf-8\" /></head>\n",
       "<body>\n",
       "    <div>\n",
       "            <script src=\"https://cdnjs.cloudflare.com/ajax/libs/mathjax/2.7.5/MathJax.js?config=TeX-AMS-MML_SVG\"></script><script type=\"text/javascript\">if (window.MathJax) {MathJax.Hub.Config({SVG: {font: \"STIX-Web\"}});}</script>\n",
       "                <script type=\"text/javascript\">window.PlotlyConfig = {MathJaxConfig: 'local'};</script>\n",
       "        <script src=\"https://cdn.plot.ly/plotly-latest.min.js\"></script>    \n",
       "            <div id=\"1f39873c-0141-487e-a120-3fd889e8d0fa\" class=\"plotly-graph-div\" style=\"height:525px; width:100%;\"></div>\n",
       "            <script type=\"text/javascript\">\n",
       "                \n",
       "                    window.PLOTLYENV=window.PLOTLYENV || {};\n",
       "                    \n",
       "                if (document.getElementById(\"1f39873c-0141-487e-a120-3fd889e8d0fa\")) {\n",
       "                    Plotly.newPlot(\n",
       "                        '1f39873c-0141-487e-a120-3fd889e8d0fa',\n",
       "                        [{\"domain\": {\"x\": [0.0, 1.0], \"y\": [0.0, 1.0]}, \"hoverlabel\": {\"namelength\": 0}, \"hovertemplate\": \"Task=%{label}<br>Progress=%{value}\", \"labels\": [\"Task 1\", \"Task 2\", \"Task 3\", \"Task 4\", \"Task 5\", \"Task 6\", \"Task 7\", \"Task 8\"], \"legendgroup\": \"\", \"name\": \"\", \"showlegend\": true, \"type\": \"pie\", \"values\": [38, 44, 60, 100, 43, 20, 30, 0]}],\n",
       "                        {\"legend\": {\"tracegroupgap\": 0}, \"template\": {\"data\": {\"bar\": [{\"error_x\": {\"color\": \"#2a3f5f\"}, \"error_y\": {\"color\": \"#2a3f5f\"}, \"marker\": {\"line\": {\"color\": \"#E5ECF6\", \"width\": 0.5}}, \"type\": \"bar\"}], \"barpolar\": [{\"marker\": {\"line\": {\"color\": \"#E5ECF6\", \"width\": 0.5}}, \"type\": \"barpolar\"}], \"carpet\": [{\"aaxis\": {\"endlinecolor\": \"#2a3f5f\", \"gridcolor\": \"white\", \"linecolor\": \"white\", \"minorgridcolor\": \"white\", \"startlinecolor\": \"#2a3f5f\"}, \"baxis\": {\"endlinecolor\": \"#2a3f5f\", \"gridcolor\": \"white\", \"linecolor\": \"white\", \"minorgridcolor\": \"white\", \"startlinecolor\": \"#2a3f5f\"}, \"type\": \"carpet\"}], \"choropleth\": [{\"colorbar\": {\"outlinewidth\": 0, \"ticks\": \"\"}, \"type\": \"choropleth\"}], \"contour\": [{\"colorbar\": {\"outlinewidth\": 0, \"ticks\": \"\"}, \"colorscale\": [[0.0, \"#0d0887\"], [0.1111111111111111, \"#46039f\"], [0.2222222222222222, \"#7201a8\"], [0.3333333333333333, \"#9c179e\"], [0.4444444444444444, \"#bd3786\"], [0.5555555555555556, \"#d8576b\"], [0.6666666666666666, \"#ed7953\"], [0.7777777777777778, \"#fb9f3a\"], [0.8888888888888888, \"#fdca26\"], [1.0, \"#f0f921\"]], \"type\": \"contour\"}], \"contourcarpet\": [{\"colorbar\": {\"outlinewidth\": 0, \"ticks\": \"\"}, \"type\": \"contourcarpet\"}], \"heatmap\": [{\"colorbar\": {\"outlinewidth\": 0, \"ticks\": \"\"}, \"colorscale\": [[0.0, \"#0d0887\"], [0.1111111111111111, \"#46039f\"], [0.2222222222222222, \"#7201a8\"], [0.3333333333333333, \"#9c179e\"], [0.4444444444444444, \"#bd3786\"], [0.5555555555555556, \"#d8576b\"], [0.6666666666666666, \"#ed7953\"], [0.7777777777777778, \"#fb9f3a\"], [0.8888888888888888, \"#fdca26\"], [1.0, \"#f0f921\"]], \"type\": \"heatmap\"}], \"heatmapgl\": [{\"colorbar\": {\"outlinewidth\": 0, \"ticks\": \"\"}, \"colorscale\": [[0.0, \"#0d0887\"], [0.1111111111111111, \"#46039f\"], [0.2222222222222222, \"#7201a8\"], [0.3333333333333333, \"#9c179e\"], [0.4444444444444444, \"#bd3786\"], [0.5555555555555556, \"#d8576b\"], [0.6666666666666666, \"#ed7953\"], [0.7777777777777778, \"#fb9f3a\"], [0.8888888888888888, \"#fdca26\"], [1.0, \"#f0f921\"]], \"type\": \"heatmapgl\"}], \"histogram\": [{\"marker\": {\"colorbar\": {\"outlinewidth\": 0, \"ticks\": \"\"}}, \"type\": \"histogram\"}], \"histogram2d\": [{\"colorbar\": {\"outlinewidth\": 0, \"ticks\": \"\"}, \"colorscale\": [[0.0, \"#0d0887\"], [0.1111111111111111, \"#46039f\"], [0.2222222222222222, \"#7201a8\"], [0.3333333333333333, \"#9c179e\"], [0.4444444444444444, \"#bd3786\"], [0.5555555555555556, \"#d8576b\"], [0.6666666666666666, \"#ed7953\"], [0.7777777777777778, \"#fb9f3a\"], [0.8888888888888888, \"#fdca26\"], [1.0, \"#f0f921\"]], \"type\": \"histogram2d\"}], \"histogram2dcontour\": [{\"colorbar\": {\"outlinewidth\": 0, \"ticks\": \"\"}, \"colorscale\": [[0.0, \"#0d0887\"], [0.1111111111111111, \"#46039f\"], [0.2222222222222222, \"#7201a8\"], [0.3333333333333333, \"#9c179e\"], [0.4444444444444444, \"#bd3786\"], [0.5555555555555556, \"#d8576b\"], [0.6666666666666666, \"#ed7953\"], [0.7777777777777778, \"#fb9f3a\"], [0.8888888888888888, \"#fdca26\"], [1.0, \"#f0f921\"]], \"type\": \"histogram2dcontour\"}], \"mesh3d\": [{\"colorbar\": {\"outlinewidth\": 0, \"ticks\": \"\"}, \"type\": \"mesh3d\"}], \"parcoords\": [{\"line\": {\"colorbar\": {\"outlinewidth\": 0, \"ticks\": \"\"}}, \"type\": \"parcoords\"}], \"pie\": [{\"automargin\": true, \"type\": \"pie\"}], \"scatter\": [{\"marker\": {\"colorbar\": {\"outlinewidth\": 0, \"ticks\": \"\"}}, \"type\": \"scatter\"}], \"scatter3d\": [{\"line\": {\"colorbar\": {\"outlinewidth\": 0, \"ticks\": \"\"}}, \"marker\": {\"colorbar\": {\"outlinewidth\": 0, \"ticks\": \"\"}}, \"type\": \"scatter3d\"}], \"scattercarpet\": [{\"marker\": {\"colorbar\": {\"outlinewidth\": 0, \"ticks\": \"\"}}, \"type\": \"scattercarpet\"}], \"scattergeo\": [{\"marker\": {\"colorbar\": {\"outlinewidth\": 0, \"ticks\": \"\"}}, \"type\": \"scattergeo\"}], \"scattergl\": [{\"marker\": {\"colorbar\": {\"outlinewidth\": 0, \"ticks\": \"\"}}, \"type\": \"scattergl\"}], \"scattermapbox\": [{\"marker\": {\"colorbar\": {\"outlinewidth\": 0, \"ticks\": \"\"}}, \"type\": \"scattermapbox\"}], \"scatterpolar\": [{\"marker\": {\"colorbar\": {\"outlinewidth\": 0, \"ticks\": \"\"}}, \"type\": \"scatterpolar\"}], \"scatterpolargl\": [{\"marker\": {\"colorbar\": {\"outlinewidth\": 0, \"ticks\": \"\"}}, \"type\": \"scatterpolargl\"}], \"scatterternary\": [{\"marker\": {\"colorbar\": {\"outlinewidth\": 0, \"ticks\": \"\"}}, \"type\": \"scatterternary\"}], \"surface\": [{\"colorbar\": {\"outlinewidth\": 0, \"ticks\": \"\"}, \"colorscale\": [[0.0, \"#0d0887\"], [0.1111111111111111, \"#46039f\"], [0.2222222222222222, \"#7201a8\"], [0.3333333333333333, \"#9c179e\"], [0.4444444444444444, \"#bd3786\"], [0.5555555555555556, \"#d8576b\"], [0.6666666666666666, \"#ed7953\"], [0.7777777777777778, \"#fb9f3a\"], [0.8888888888888888, \"#fdca26\"], [1.0, \"#f0f921\"]], \"type\": \"surface\"}], \"table\": [{\"cells\": {\"fill\": {\"color\": \"#EBF0F8\"}, \"line\": {\"color\": \"white\"}}, \"header\": {\"fill\": {\"color\": \"#C8D4E3\"}, \"line\": {\"color\": \"white\"}}, \"type\": \"table\"}]}, \"layout\": {\"annotationdefaults\": {\"arrowcolor\": \"#2a3f5f\", \"arrowhead\": 0, \"arrowwidth\": 1}, \"coloraxis\": {\"colorbar\": {\"outlinewidth\": 0, \"ticks\": \"\"}}, \"colorscale\": {\"diverging\": [[0, \"#8e0152\"], [0.1, \"#c51b7d\"], [0.2, \"#de77ae\"], [0.3, \"#f1b6da\"], [0.4, \"#fde0ef\"], [0.5, \"#f7f7f7\"], [0.6, \"#e6f5d0\"], [0.7, \"#b8e186\"], [0.8, \"#7fbc41\"], [0.9, \"#4d9221\"], [1, \"#276419\"]], \"sequential\": [[0.0, \"#0d0887\"], [0.1111111111111111, \"#46039f\"], [0.2222222222222222, \"#7201a8\"], [0.3333333333333333, \"#9c179e\"], [0.4444444444444444, \"#bd3786\"], [0.5555555555555556, \"#d8576b\"], [0.6666666666666666, \"#ed7953\"], [0.7777777777777778, \"#fb9f3a\"], [0.8888888888888888, \"#fdca26\"], [1.0, \"#f0f921\"]], \"sequentialminus\": [[0.0, \"#0d0887\"], [0.1111111111111111, \"#46039f\"], [0.2222222222222222, \"#7201a8\"], [0.3333333333333333, \"#9c179e\"], [0.4444444444444444, \"#bd3786\"], [0.5555555555555556, \"#d8576b\"], [0.6666666666666666, \"#ed7953\"], [0.7777777777777778, \"#fb9f3a\"], [0.8888888888888888, \"#fdca26\"], [1.0, \"#f0f921\"]]}, \"colorway\": [\"#636efa\", \"#EF553B\", \"#00cc96\", \"#ab63fa\", \"#FFA15A\", \"#19d3f3\", \"#FF6692\", \"#B6E880\", \"#FF97FF\", \"#FECB52\"], \"font\": {\"color\": \"#2a3f5f\"}, \"geo\": {\"bgcolor\": \"white\", \"lakecolor\": \"white\", \"landcolor\": \"#E5ECF6\", \"showlakes\": true, \"showland\": true, \"subunitcolor\": \"white\"}, \"hoverlabel\": {\"align\": \"left\"}, \"hovermode\": \"closest\", \"mapbox\": {\"style\": \"light\"}, \"paper_bgcolor\": \"white\", \"plot_bgcolor\": \"#E5ECF6\", \"polar\": {\"angularaxis\": {\"gridcolor\": \"white\", \"linecolor\": \"white\", \"ticks\": \"\"}, \"bgcolor\": \"#E5ECF6\", \"radialaxis\": {\"gridcolor\": \"white\", \"linecolor\": \"white\", \"ticks\": \"\"}}, \"scene\": {\"xaxis\": {\"backgroundcolor\": \"#E5ECF6\", \"gridcolor\": \"white\", \"gridwidth\": 2, \"linecolor\": \"white\", \"showbackground\": true, \"ticks\": \"\", \"zerolinecolor\": \"white\"}, \"yaxis\": {\"backgroundcolor\": \"#E5ECF6\", \"gridcolor\": \"white\", \"gridwidth\": 2, \"linecolor\": \"white\", \"showbackground\": true, \"ticks\": \"\", \"zerolinecolor\": \"white\"}, \"zaxis\": {\"backgroundcolor\": \"#E5ECF6\", \"gridcolor\": \"white\", \"gridwidth\": 2, \"linecolor\": \"white\", \"showbackground\": true, \"ticks\": \"\", \"zerolinecolor\": \"white\"}}, \"shapedefaults\": {\"line\": {\"color\": \"#2a3f5f\"}}, \"ternary\": {\"aaxis\": {\"gridcolor\": \"white\", \"linecolor\": \"white\", \"ticks\": \"\"}, \"baxis\": {\"gridcolor\": \"white\", \"linecolor\": \"white\", \"ticks\": \"\"}, \"bgcolor\": \"#E5ECF6\", \"caxis\": {\"gridcolor\": \"white\", \"linecolor\": \"white\", \"ticks\": \"\"}}, \"title\": {\"x\": 0.05}, \"xaxis\": {\"automargin\": true, \"gridcolor\": \"white\", \"linecolor\": \"white\", \"ticks\": \"\", \"title\": {\"standoff\": 15}, \"zerolinecolor\": \"white\", \"zerolinewidth\": 2}, \"yaxis\": {\"automargin\": true, \"gridcolor\": \"white\", \"linecolor\": \"white\", \"ticks\": \"\", \"title\": {\"standoff\": 15}, \"zerolinecolor\": \"white\", \"zerolinewidth\": 2}}}, \"title\": {\"text\": \"AVERAGE PROGRESS FOR EACH TASK ACCORDING TO THE PROJECT\", \"x\": 0.5}},\n",
       "                        {\"responsive\": true}\n",
       "                    ).then(function(){\n",
       "                            \n",
       "var gd = document.getElementById('1f39873c-0141-487e-a120-3fd889e8d0fa');\n",
       "var x = new MutationObserver(function (mutations, observer) {{\n",
       "        var display = window.getComputedStyle(gd).display;\n",
       "        if (!display || display === 'none') {{\n",
       "            console.log([gd, 'removed!']);\n",
       "            Plotly.purge(gd);\n",
       "            observer.disconnect();\n",
       "        }}\n",
       "}});\n",
       "\n",
       "// Listen for the removal of the full notebook cells\n",
       "var notebookContainer = gd.closest('#notebook-container');\n",
       "if (notebookContainer) {{\n",
       "    x.observe(notebookContainer, {childList: true});\n",
       "}}\n",
       "\n",
       "// Listen for the clearing of the current output cell\n",
       "var outputEl = gd.closest('.output');\n",
       "if (outputEl) {{\n",
       "    x.observe(outputEl, {childList: true});\n",
       "}}\n",
       "\n",
       "                        })\n",
       "                };\n",
       "                \n",
       "            </script>\n",
       "        </div>\n",
       "</body>\n",
       "</html>"
      ]
     },
     "metadata": {
      "tags": []
     },
     "output_type": "display_data"
    }
   ],
   "source": [
    "fig_pie=px.pie(data_frame=data1,names='Task',values='Progress',title='Average Progress for each Task acc to the Project')\n",
    "fig_pie.update_layout(title_text='AVERAGE PROGRESS FOR EACH TASK ACCORDING TO THE PROJECT', title_x=0.5)\n",
    "fig_pie.show()"
   ]
  },
  {
   "cell_type": "markdown",
   "metadata": {
    "id": "yKDkYk0ZmQ1t"
   },
   "source": [
    "\n",
    "### Analysing the workhours"
   ]
  },
  {
   "cell_type": "code",
   "execution_count": null,
   "metadata": {
    "colab": {
     "base_uri": "https://localhost:8080/",
     "height": 358
    },
    "id": "KhsbMwARmQ1t",
    "outputId": "0546531e-5fa5-48d1-9411-7fc6218a9980"
   },
   "outputs": [
    {
     "name": "stdout",
     "output_type": "stream",
     "text": [
      "         Days completed  Duration  Progress\n",
      "Project                                    \n",
      "Alpha             2.625     6.875    41.875\n"
     ]
    },
    {
     "data": {
      "image/png": "[encoded data removed]",
      "text/plain": [
       "<Figure size 432x288 with 1 Axes>"
      ]
     },
     "metadata": {
      "needs_background": "light",
      "tags": []
     },
     "output_type": "display_data"
    }
   ],
   "source": [
    "workhours=pd.pivot_table(data=data1, index=[\"Project\"]) #individual project analysis based on user input\n",
    "print(workhours)\n",
    "\n",
    "workhours.plot(kind='bar')\n",
    "plt.legend(loc=\"upper left\",bbox_to_anchor=(1,1))\n",
    "plt.show()"
   ]
  },
  {
   "cell_type": "markdown",
   "metadata": {
    "id": "cgaH9vzqmQ1u"
   },
   "source": [
    "### Tabular representation of Project based on the task with the porgress values in its cell"
   ]
  },
  {
   "cell_type": "code",
   "execution_count": null,
   "metadata": {
    "colab": {
     "base_uri": "https://localhost:8080/",
     "height": 233
    },
    "id": "tZkKYxVPmQ1u",
    "outputId": "99fdeecf-2ff6-4090-c734-e524fe4b3a71"
   },
   "outputs": [
    {
     "data": {
      "text/html": [
       "<div>\n",
       "<style scoped>\n",
       "    .dataframe tbody tr th:only-of-type {\n",
       "        vertical-align: middle;\n",
       "    }\n",
       "\n",
       "    .dataframe tbody tr th {\n",
       "        vertical-align: top;\n",
       "    }\n",
       "\n",
       "    .dataframe thead th {\n",
       "        text-align: right;\n",
       "    }\n",
       "</style>\n",
       "<table border=\"1\" class=\"dataframe\">\n",
       "  <thead>\n",
       "    <tr style=\"text-align: right;\">\n",
       "      <th>Task</th>\n",
       "      <th>Task 1</th>\n",
       "      <th>Task 10</th>\n",
       "      <th>Task 2</th>\n",
       "      <th>Task 3</th>\n",
       "      <th>Task 4</th>\n",
       "      <th>Task 5</th>\n",
       "      <th>Task 6</th>\n",
       "      <th>Task 7</th>\n",
       "      <th>Task 8</th>\n",
       "      <th>Task 9</th>\n",
       "    </tr>\n",
       "    <tr>\n",
       "      <th>Project</th>\n",
       "      <th></th>\n",
       "      <th></th>\n",
       "      <th></th>\n",
       "      <th></th>\n",
       "      <th></th>\n",
       "      <th></th>\n",
       "      <th></th>\n",
       "      <th></th>\n",
       "      <th></th>\n",
       "      <th></th>\n",
       "    </tr>\n",
       "  </thead>\n",
       "  <tbody>\n",
       "    <tr>\n",
       "      <th>Alpha</th>\n",
       "      <td>38.0</td>\n",
       "      <td>NaN</td>\n",
       "      <td>44.0</td>\n",
       "      <td>60.0</td>\n",
       "      <td>100.0</td>\n",
       "      <td>43.0</td>\n",
       "      <td>20.0</td>\n",
       "      <td>30.0</td>\n",
       "      <td>0.0</td>\n",
       "      <td>NaN</td>\n",
       "    </tr>\n",
       "    <tr>\n",
       "      <th>Delta</th>\n",
       "      <td>89.0</td>\n",
       "      <td>NaN</td>\n",
       "      <td>20.0</td>\n",
       "      <td>0.0</td>\n",
       "      <td>63.0</td>\n",
       "      <td>30.0</td>\n",
       "      <td>50.0</td>\n",
       "      <td>50.0</td>\n",
       "      <td>NaN</td>\n",
       "      <td>NaN</td>\n",
       "    </tr>\n",
       "    <tr>\n",
       "      <th>Gemini</th>\n",
       "      <td>40.0</td>\n",
       "      <td>50.0</td>\n",
       "      <td>50.0</td>\n",
       "      <td>40.0</td>\n",
       "      <td>33.0</td>\n",
       "      <td>25.0</td>\n",
       "      <td>0.0</td>\n",
       "      <td>43.0</td>\n",
       "      <td>40.0</td>\n",
       "      <td>11.0</td>\n",
       "    </tr>\n",
       "    <tr>\n",
       "      <th>Orion</th>\n",
       "      <td>100.0</td>\n",
       "      <td>100.0</td>\n",
       "      <td>44.0</td>\n",
       "      <td>0.0</td>\n",
       "      <td>43.0</td>\n",
       "      <td>25.0</td>\n",
       "      <td>50.0</td>\n",
       "      <td>83.0</td>\n",
       "      <td>25.0</td>\n",
       "      <td>43.0</td>\n",
       "    </tr>\n",
       "    <tr>\n",
       "      <th>Vega</th>\n",
       "      <td>50.0</td>\n",
       "      <td>NaN</td>\n",
       "      <td>80.0</td>\n",
       "      <td>43.0</td>\n",
       "      <td>29.0</td>\n",
       "      <td>67.0</td>\n",
       "      <td>NaN</td>\n",
       "      <td>NaN</td>\n",
       "      <td>NaN</td>\n",
       "      <td>NaN</td>\n",
       "    </tr>\n",
       "  </tbody>\n",
       "</table>\n",
       "</div>"
      ],
      "text/plain": [
       "Task     Task 1  Task 10  Task 2  Task 3  ...  Task 6  Task 7  Task 8  Task 9\n",
       "Project                                   ...                                \n",
       "Alpha      38.0      NaN    44.0    60.0  ...    20.0    30.0     0.0     NaN\n",
       "Delta      89.0      NaN    20.0     0.0  ...    50.0    50.0     NaN     NaN\n",
       "Gemini     40.0     50.0    50.0    40.0  ...     0.0    43.0    40.0    11.0\n",
       "Orion     100.0    100.0    44.0     0.0  ...    50.0    83.0    25.0    43.0\n",
       "Vega       50.0      NaN    80.0    43.0  ...     NaN     NaN     NaN     NaN\n",
       "\n",
       "[5 rows x 10 columns]"
      ]
     },
     "execution_count": 26,
     "metadata": {
      "tags": []
     },
     "output_type": "execute_result"
    }
   ],
   "source": [
    "#using group by function to take 3 variables into consideration\n",
    "data.groupby(['Project','Task'])['Progress'].aggregate('mean').unstack()"
   ]
  },
  {
   "cell_type": "code",
   "execution_count": null,
   "metadata": {
    "colab": {
     "base_uri": "https://localhost:8080/",
     "height": 285
    },
    "id": "yrPLxQ1umQ1u",
    "outputId": "dd6dff5b-eafc-4b74-9964-4ec51aff396f"
   },
   "outputs": [
    {
     "data": {
      "image/png": "[encoded data removed]",
      "text/plain": [
       "<Figure size 432x288 with 1 Axes>"
      ]
     },
     "metadata": {
      "tags": []
     },
     "output_type": "display_data"
    }
   ],
   "source": [
    "sns.set()\n",
    "data.pivot_table('Progress', index='Project', columns='Task', aggfunc='mean').plot()\n",
    "plt.ylabel('Average progress');\n",
    "plt.legend(loc='upper left',bbox_to_anchor=(1,1));"
   ]
  },
  {
   "cell_type": "markdown",
   "metadata": {
    "id": "YhGw5nsAmQ1v"
   },
   "source": [
    "### Overall average of progress for each of the porjects"
   ]
  },
  {
   "cell_type": "code",
   "execution_count": null,
   "metadata": {
    "colab": {
     "base_uri": "https://localhost:8080/",
     "height": 542
    },
    "id": "r9tBIrgEmQ1w",
    "outputId": "917e008f-36f8-4ce0-a23c-cfc0f7922a8d"
   },
   "outputs": [
    {
     "data": {
      "text/html": [
       "<html>\n",
       "<head><meta charset=\"utf-8\" /></head>\n",
       "<body>\n",
       "    <div>\n",
       "            <script src=\"https://cdnjs.cloudflare.com/ajax/libs/mathjax/2.7.5/MathJax.js?config=TeX-AMS-MML_SVG\"></script><script type=\"text/javascript\">if (window.MathJax) {MathJax.Hub.Config({SVG: {font: \"STIX-Web\"}});}</script>\n",
       "                <script type=\"text/javascript\">window.PlotlyConfig = {MathJaxConfig: 'local'};</script>\n",
       "        <script src=\"https://cdn.plot.ly/plotly-latest.min.js\"></script>    \n",
       "            <div id=\"7f09d016-3e51-4966-9828-98a4928ba999\" class=\"plotly-graph-div\" style=\"height:525px; width:100%;\"></div>\n",
       "            <script type=\"text/javascript\">\n",
       "                \n",
       "                    window.PLOTLYENV=window.PLOTLYENV || {};\n",
       "                    \n",
       "                if (document.getElementById(\"7f09d016-3e51-4966-9828-98a4928ba999\")) {\n",
       "                    Plotly.newPlot(\n",
       "                        '7f09d016-3e51-4966-9828-98a4928ba999',\n",
       "                        [{\"domain\": {\"x\": [0.0, 1.0], \"y\": [0.0, 1.0]}, \"hoverlabel\": {\"namelength\": 0}, \"hovertemplate\": \"Project=%{label}<br>Progress=%{value}\", \"labels\": [\"Gemini\", \"Gemini\", \"Gemini\", \"Gemini\", \"Gemini\", \"Gemini\", \"Gemini\", \"Gemini\", \"Gemini\", \"Gemini\", \"Orion\", \"Orion\", \"Orion\", \"Orion\", \"Orion\", \"Orion\", \"Orion\", \"Orion\", \"Orion\", \"Orion\", \"Vega\", \"Vega\", \"Vega\", \"Vega\", \"Vega\", \"Delta\", \"Delta\", \"Delta\", \"Delta\", \"Delta\", \"Delta\", \"Delta\", \"Alpha\", \"Alpha\", \"Alpha\", \"Alpha\", \"Alpha\", \"Alpha\", \"Alpha\", \"Alpha\"], \"legendgroup\": \"\", \"name\": \"\", \"showlegend\": true, \"type\": \"pie\", \"values\": [40, 50, 40, 33, 25, 0, 43, 40, 11, 50, 100, 44, 0, 43, 25, 50, 83, 25, 43, 100, 50, 80, 43, 29, 67, 89, 20, 0, 63, 30, 50, 50, 38, 44, 60, 100, 43, 20, 30, 0]}],\n",
       "                        {\"legend\": {\"tracegroupgap\": 0}, \"margin\": {\"t\": 60}, \"template\": {\"data\": {\"bar\": [{\"error_x\": {\"color\": \"#2a3f5f\"}, \"error_y\": {\"color\": \"#2a3f5f\"}, \"marker\": {\"line\": {\"color\": \"#E5ECF6\", \"width\": 0.5}}, \"type\": \"bar\"}], \"barpolar\": [{\"marker\": {\"line\": {\"color\": \"#E5ECF6\", \"width\": 0.5}}, \"type\": \"barpolar\"}], \"carpet\": [{\"aaxis\": {\"endlinecolor\": \"#2a3f5f\", \"gridcolor\": \"white\", \"linecolor\": \"white\", \"minorgridcolor\": \"white\", \"startlinecolor\": \"#2a3f5f\"}, \"baxis\": {\"endlinecolor\": \"#2a3f5f\", \"gridcolor\": \"white\", \"linecolor\": \"white\", \"minorgridcolor\": \"white\", \"startlinecolor\": \"#2a3f5f\"}, \"type\": \"carpet\"}], \"choropleth\": [{\"colorbar\": {\"outlinewidth\": 0, \"ticks\": \"\"}, \"type\": \"choropleth\"}], \"contour\": [{\"colorbar\": {\"outlinewidth\": 0, \"ticks\": \"\"}, \"colorscale\": [[0.0, \"#0d0887\"], [0.1111111111111111, \"#46039f\"], [0.2222222222222222, \"#7201a8\"], [0.3333333333333333, \"#9c179e\"], [0.4444444444444444, \"#bd3786\"], [0.5555555555555556, \"#d8576b\"], [0.6666666666666666, \"#ed7953\"], [0.7777777777777778, \"#fb9f3a\"], [0.8888888888888888, \"#fdca26\"], [1.0, \"#f0f921\"]], \"type\": \"contour\"}], \"contourcarpet\": [{\"colorbar\": {\"outlinewidth\": 0, \"ticks\": \"\"}, \"type\": \"contourcarpet\"}], \"heatmap\": [{\"colorbar\": {\"outlinewidth\": 0, \"ticks\": \"\"}, \"colorscale\": [[0.0, \"#0d0887\"], [0.1111111111111111, \"#46039f\"], [0.2222222222222222, \"#7201a8\"], [0.3333333333333333, \"#9c179e\"], [0.4444444444444444, \"#bd3786\"], [0.5555555555555556, \"#d8576b\"], [0.6666666666666666, \"#ed7953\"], [0.7777777777777778, \"#fb9f3a\"], [0.8888888888888888, \"#fdca26\"], [1.0, \"#f0f921\"]], \"type\": \"heatmap\"}], \"heatmapgl\": [{\"colorbar\": {\"outlinewidth\": 0, \"ticks\": \"\"}, \"colorscale\": [[0.0, \"#0d0887\"], [0.1111111111111111, \"#46039f\"], [0.2222222222222222, \"#7201a8\"], [0.3333333333333333, \"#9c179e\"], [0.4444444444444444, \"#bd3786\"], [0.5555555555555556, \"#d8576b\"], [0.6666666666666666, \"#ed7953\"], [0.7777777777777778, \"#fb9f3a\"], [0.8888888888888888, \"#fdca26\"], [1.0, \"#f0f921\"]], \"type\": \"heatmapgl\"}], \"histogram\": [{\"marker\": {\"colorbar\": {\"outlinewidth\": 0, \"ticks\": \"\"}}, \"type\": \"histogram\"}], \"histogram2d\": [{\"colorbar\": {\"outlinewidth\": 0, \"ticks\": \"\"}, \"colorscale\": [[0.0, \"#0d0887\"], [0.1111111111111111, \"#46039f\"], [0.2222222222222222, \"#7201a8\"], [0.3333333333333333, \"#9c179e\"], [0.4444444444444444, \"#bd3786\"], [0.5555555555555556, \"#d8576b\"], [0.6666666666666666, \"#ed7953\"], [0.7777777777777778, \"#fb9f3a\"], [0.8888888888888888, \"#fdca26\"], [1.0, \"#f0f921\"]], \"type\": \"histogram2d\"}], \"histogram2dcontour\": [{\"colorbar\": {\"outlinewidth\": 0, \"ticks\": \"\"}, \"colorscale\": [[0.0, \"#0d0887\"], [0.1111111111111111, \"#46039f\"], [0.2222222222222222, \"#7201a8\"], [0.3333333333333333, \"#9c179e\"], [0.4444444444444444, \"#bd3786\"], [0.5555555555555556, \"#d8576b\"], [0.6666666666666666, \"#ed7953\"], [0.7777777777777778, \"#fb9f3a\"], [0.8888888888888888, \"#fdca26\"], [1.0, \"#f0f921\"]], \"type\": \"histogram2dcontour\"}], \"mesh3d\": [{\"colorbar\": {\"outlinewidth\": 0, \"ticks\": \"\"}, \"type\": \"mesh3d\"}], \"parcoords\": [{\"line\": {\"colorbar\": {\"outlinewidth\": 0, \"ticks\": \"\"}}, \"type\": \"parcoords\"}], \"pie\": [{\"automargin\": true, \"type\": \"pie\"}], \"scatter\": [{\"marker\": {\"colorbar\": {\"outlinewidth\": 0, \"ticks\": \"\"}}, \"type\": \"scatter\"}], \"scatter3d\": [{\"line\": {\"colorbar\": {\"outlinewidth\": 0, \"ticks\": \"\"}}, \"marker\": {\"colorbar\": {\"outlinewidth\": 0, \"ticks\": \"\"}}, \"type\": \"scatter3d\"}], \"scattercarpet\": [{\"marker\": {\"colorbar\": {\"outlinewidth\": 0, \"ticks\": \"\"}}, \"type\": \"scattercarpet\"}], \"scattergeo\": [{\"marker\": {\"colorbar\": {\"outlinewidth\": 0, \"ticks\": \"\"}}, \"type\": \"scattergeo\"}], \"scattergl\": [{\"marker\": {\"colorbar\": {\"outlinewidth\": 0, \"ticks\": \"\"}}, \"type\": \"scattergl\"}], \"scattermapbox\": [{\"marker\": {\"colorbar\": {\"outlinewidth\": 0, \"ticks\": \"\"}}, \"type\": \"scattermapbox\"}], \"scatterpolar\": [{\"marker\": {\"colorbar\": {\"outlinewidth\": 0, \"ticks\": \"\"}}, \"type\": \"scatterpolar\"}], \"scatterpolargl\": [{\"marker\": {\"colorbar\": {\"outlinewidth\": 0, \"ticks\": \"\"}}, \"type\": \"scatterpolargl\"}], \"scatterternary\": [{\"marker\": {\"colorbar\": {\"outlinewidth\": 0, \"ticks\": \"\"}}, \"type\": \"scatterternary\"}], \"surface\": [{\"colorbar\": {\"outlinewidth\": 0, \"ticks\": \"\"}, \"colorscale\": [[0.0, \"#0d0887\"], [0.1111111111111111, \"#46039f\"], [0.2222222222222222, \"#7201a8\"], [0.3333333333333333, \"#9c179e\"], [0.4444444444444444, \"#bd3786\"], [0.5555555555555556, \"#d8576b\"], [0.6666666666666666, \"#ed7953\"], [0.7777777777777778, \"#fb9f3a\"], [0.8888888888888888, \"#fdca26\"], [1.0, \"#f0f921\"]], \"type\": \"surface\"}], \"table\": [{\"cells\": {\"fill\": {\"color\": \"#EBF0F8\"}, \"line\": {\"color\": \"white\"}}, \"header\": {\"fill\": {\"color\": \"#C8D4E3\"}, \"line\": {\"color\": \"white\"}}, \"type\": \"table\"}]}, \"layout\": {\"annotationdefaults\": {\"arrowcolor\": \"#2a3f5f\", \"arrowhead\": 0, \"arrowwidth\": 1}, \"coloraxis\": {\"colorbar\": {\"outlinewidth\": 0, \"ticks\": \"\"}}, \"colorscale\": {\"diverging\": [[0, \"#8e0152\"], [0.1, \"#c51b7d\"], [0.2, \"#de77ae\"], [0.3, \"#f1b6da\"], [0.4, \"#fde0ef\"], [0.5, \"#f7f7f7\"], [0.6, \"#e6f5d0\"], [0.7, \"#b8e186\"], [0.8, \"#7fbc41\"], [0.9, \"#4d9221\"], [1, \"#276419\"]], \"sequential\": [[0.0, \"#0d0887\"], [0.1111111111111111, \"#46039f\"], [0.2222222222222222, \"#7201a8\"], [0.3333333333333333, \"#9c179e\"], [0.4444444444444444, \"#bd3786\"], [0.5555555555555556, \"#d8576b\"], [0.6666666666666666, \"#ed7953\"], [0.7777777777777778, \"#fb9f3a\"], [0.8888888888888888, \"#fdca26\"], [1.0, \"#f0f921\"]], \"sequentialminus\": [[0.0, \"#0d0887\"], [0.1111111111111111, \"#46039f\"], [0.2222222222222222, \"#7201a8\"], [0.3333333333333333, \"#9c179e\"], [0.4444444444444444, \"#bd3786\"], [0.5555555555555556, \"#d8576b\"], [0.6666666666666666, \"#ed7953\"], [0.7777777777777778, \"#fb9f3a\"], [0.8888888888888888, \"#fdca26\"], [1.0, \"#f0f921\"]]}, \"colorway\": [\"#636efa\", \"#EF553B\", \"#00cc96\", \"#ab63fa\", \"#FFA15A\", \"#19d3f3\", \"#FF6692\", \"#B6E880\", \"#FF97FF\", \"#FECB52\"], \"font\": {\"color\": \"#2a3f5f\"}, \"geo\": {\"bgcolor\": \"white\", \"lakecolor\": \"white\", \"landcolor\": \"#E5ECF6\", \"showlakes\": true, \"showland\": true, \"subunitcolor\": \"white\"}, \"hoverlabel\": {\"align\": \"left\"}, \"hovermode\": \"closest\", \"mapbox\": {\"style\": \"light\"}, \"paper_bgcolor\": \"white\", \"plot_bgcolor\": \"#E5ECF6\", \"polar\": {\"angularaxis\": {\"gridcolor\": \"white\", \"linecolor\": \"white\", \"ticks\": \"\"}, \"bgcolor\": \"#E5ECF6\", \"radialaxis\": {\"gridcolor\": \"white\", \"linecolor\": \"white\", \"ticks\": \"\"}}, \"scene\": {\"xaxis\": {\"backgroundcolor\": \"#E5ECF6\", \"gridcolor\": \"white\", \"gridwidth\": 2, \"linecolor\": \"white\", \"showbackground\": true, \"ticks\": \"\", \"zerolinecolor\": \"white\"}, \"yaxis\": {\"backgroundcolor\": \"#E5ECF6\", \"gridcolor\": \"white\", \"gridwidth\": 2, \"linecolor\": \"white\", \"showbackground\": true, \"ticks\": \"\", \"zerolinecolor\": \"white\"}, \"zaxis\": {\"backgroundcolor\": \"#E5ECF6\", \"gridcolor\": \"white\", \"gridwidth\": 2, \"linecolor\": \"white\", \"showbackground\": true, \"ticks\": \"\", \"zerolinecolor\": \"white\"}}, \"shapedefaults\": {\"line\": {\"color\": \"#2a3f5f\"}}, \"ternary\": {\"aaxis\": {\"gridcolor\": \"white\", \"linecolor\": \"white\", \"ticks\": \"\"}, \"baxis\": {\"gridcolor\": \"white\", \"linecolor\": \"white\", \"ticks\": \"\"}, \"bgcolor\": \"#E5ECF6\", \"caxis\": {\"gridcolor\": \"white\", \"linecolor\": \"white\", \"ticks\": \"\"}}, \"title\": {\"x\": 0.05}, \"xaxis\": {\"automargin\": true, \"gridcolor\": \"white\", \"linecolor\": \"white\", \"ticks\": \"\", \"title\": {\"standoff\": 15}, \"zerolinecolor\": \"white\", \"zerolinewidth\": 2}, \"yaxis\": {\"automargin\": true, \"gridcolor\": \"white\", \"linecolor\": \"white\", \"ticks\": \"\", \"title\": {\"standoff\": 15}, \"zerolinecolor\": \"white\", \"zerolinewidth\": 2}}}, \"title\": {\"text\": \"AVERAGE PROGRESS FOR EACH PROJECT\", \"x\": 0.5}},\n",
       "                        {\"responsive\": true}\n",
       "                    ).then(function(){\n",
       "                            \n",
       "var gd = document.getElementById('7f09d016-3e51-4966-9828-98a4928ba999');\n",
       "var x = new MutationObserver(function (mutations, observer) {{\n",
       "        var display = window.getComputedStyle(gd).display;\n",
       "        if (!display || display === 'none') {{\n",
       "            console.log([gd, 'removed!']);\n",
       "            Plotly.purge(gd);\n",
       "            observer.disconnect();\n",
       "        }}\n",
       "}});\n",
       "\n",
       "// Listen for the removal of the full notebook cells\n",
       "var notebookContainer = gd.closest('#notebook-container');\n",
       "if (notebookContainer) {{\n",
       "    x.observe(notebookContainer, {childList: true});\n",
       "}}\n",
       "\n",
       "// Listen for the clearing of the current output cell\n",
       "var outputEl = gd.closest('.output');\n",
       "if (outputEl) {{\n",
       "    x.observe(outputEl, {childList: true});\n",
       "}}\n",
       "\n",
       "                        })\n",
       "                };\n",
       "                \n",
       "            </script>\n",
       "        </div>\n",
       "</body>\n",
       "</html>"
      ]
     },
     "metadata": {
      "tags": []
     },
     "output_type": "display_data"
    }
   ],
   "source": [
    "fig_pie=px.pie(data_frame=data,names='Project',values='Progress')\n",
    "fig_pie.update_layout(title_text='AVERAGE PROGRESS FOR EACH PROJECT', title_x=0.5)\n",
    "fig_pie.show()"
   ]
  },
  {
   "cell_type": "markdown",
   "metadata": {
    "id": "fjyOePRqmQ1w"
   },
   "source": [
    "### Donut chart to analyse the days remaining vs days completed based on the user input"
   ]
  },
  {
   "cell_type": "code",
   "execution_count": null,
   "metadata": {
    "colab": {
     "base_uri": "https://localhost:8080/",
     "height": 335
    },
    "id": "m0VSCixRmQ1w",
    "outputId": "ac910b27-a453-4f8c-8516-ad987198615d"
   },
   "outputs": [
    {
     "name": "stdout",
     "output_type": "stream",
     "text": [
      "Plot for the selected project or the average of all projects?\n",
      " Select: 0-for selected project and 1-for overall\n",
      "23\n",
      "Invalid input. Please try again\n",
      "1\n"
     ]
    },
    {
     "data": {
      "image/png": "[encoded data removed]",
      "text/plain": [
       "<Figure size 432x288 with 1 Axes>"
      ]
     },
     "metadata": {
      "tags": []
     },
     "output_type": "display_data"
    }
   ],
   "source": [
    "#days completed vs remaining\n",
    "print('Plot for the selected project or the average of all projects?\\n Select: 0-for selected project and 1-for overall')\n",
    "while True:\n",
    "    a=int(input())\n",
    "    if(a==0):       #on a=0, the user input project is called out.\n",
    "        d=data1\n",
    "        break\n",
    "    elif (a==1):    #on a=1, the overall project is called out.\n",
    "        d=data\n",
    "        break\n",
    "    else:\n",
    "        print('Invalid input. Please try again')\n",
    "sum_days_c=d[\"Days completed\"].sum()\n",
    "sum_days_r=d[\"Duration\"].sum()\n",
    "days_c=((sum_days_c/sum_days_r))\n",
    "days_r=(1-days_c)\n",
    "fig_donut=plt.pie([days_c,days_r],labels=['Days completed','Days remaining'],autopct='%1.0f%%');\n",
    "my_circle=plt.Circle((0,0),0.7,color='white')\n",
    "p=plt.gcf();\n",
    "p.gca().add_artist(my_circle);\n",
    "plt.show();"
   ]
  },
  {
   "cell_type": "markdown",
   "metadata": {
    "id": "J_sS_SRkmQ1x"
   },
   "source": [
    "### Stacked bar chart to analyse the progress of the project"
   ]
  },
  {
   "cell_type": "markdown",
   "metadata": {
    "id": "r6LHU_ZSmQ1x"
   },
   "source": [
    "### Filtering out the required criteria"
   ]
  },
  {
   "cell_type": "code",
   "execution_count": null,
   "metadata": {
    "id": "7PHuoCCLmQ1x"
   },
   "outputs": [],
   "source": [
    "#use query to filterout the required combination of criterias.\n",
    "ns_alpha = data.query('Project == \"Alpha\" and Progress==0')\n",
    "compl_alpha = data.query('Project == \"Alpha\" and Progress==100')\n",
    "in_prog_alpha = data.query('Project == \"Alpha\" and Progress>0 and  Progress<100')"
   ]
  },
  {
   "cell_type": "code",
   "execution_count": null,
   "metadata": {
    "id": "4HLc5Lw0mQ1x"
   },
   "outputs": [],
   "source": [
    "ns_delta = data.query('Project == \"Delta\" and Progress==0')\n",
    "compl_delta = data.query('Project == \"Delta\" and Progress==100')\n",
    "in_prog_delta = data.query('Project == \"Delta\" and Progress>0 and  Progress<100')"
   ]
  },
  {
   "cell_type": "code",
   "execution_count": null,
   "metadata": {
    "id": "F7eTets0mQ1y"
   },
   "outputs": [],
   "source": [
    "ns_orion = data.query('Project == \"Orion\" and Progress==0')\n",
    "compl_orion = data.query('Project == \"Orion\" and Progress==100')\n",
    "in_prog_orion = data.query('Project == \"Orion\" and Progress>0 and  Progress<100')"
   ]
  },
  {
   "cell_type": "code",
   "execution_count": null,
   "metadata": {
    "id": "aNvqd2O-mQ1y"
   },
   "outputs": [],
   "source": [
    "ns_gemini= data.query('Project == \"Gemini\" and Progress==0')\n",
    "compl_gemini = data.query('Project == \"Gemini\" and Progress==100')\n",
    "in_prog_gemini = data.query('Project == \"Gemini\" and Progress>0 and  Progress<100')"
   ]
  },
  {
   "cell_type": "code",
   "execution_count": null,
   "metadata": {
    "id": "XUc-yi6BmQ1y"
   },
   "outputs": [],
   "source": [
    "ns_vega = data.query('Project == \"Vega\" and Progress==0')\n",
    "compl_vega = data.query('Project == \"Vega\" and Progress==100')\n",
    "in_prog_vega = data.query('Project == \"Vega\" and Progress>0 and  Progress<100')"
   ]
  },
  {
   "cell_type": "code",
   "execution_count": null,
   "metadata": {
    "colab": {
     "base_uri": "https://localhost:8080/",
     "height": 268
    },
    "id": "idQlFZe_mQ1y",
    "outputId": "d4b39557-0611-4e7f-d423-71785f7ab81e"
   },
   "outputs": [
    {
     "data": {
      "image/png": "[encoded data removed]",
      "text/plain": [
       "<Figure size 432x288 with 1 Axes>"
      ]
     },
     "metadata": {
      "tags": []
     },
     "output_type": "display_data"
    }
   ],
   "source": [
    "#culminate all those variables as the axis variables and form the stacked graph.\n",
    "ns=[ns_alpha['Task'].count(),ns_delta['Task'].count(),ns_orion['Task'].count(),ns_vega['Task'].count(),ns_gemini['Task'].count()]\n",
    "compl=[compl_alpha['Task'].count(),compl_delta['Task'].count(),compl_orion['Task'].count(),compl_vega['Task'].count(),compl_gemini['Task'].count()]\n",
    "in_prog=[in_prog_alpha['Task'].count(),in_prog_delta['Task'].count(),in_prog_orion['Task'].count(),in_prog_vega['Task'].count(),in_prog_gemini['Task'].count()]\n",
    "\n",
    "plt.barh(lp,ns,color=\"#f3e151\",label='Not started')\n",
    "plt.barh(lp,in_prog,left=ns,color=\"#6c3376\",label='In progress')\n",
    "plt.barh(lp,compl,left=np.add(ns,in_prog),color=\"#008000\",label='Completed')\n",
    "plt.legend(loc='upper left',bbox_to_anchor=(1,1));\n",
    "plt.show();"
   ]
  },
  {
   "cell_type": "markdown",
   "metadata": {
    "id": "ZAXlqSTxmQ1z"
   },
   "source": [
    "### Analysing the workhours of the project"
   ]
  },
  {
   "cell_type": "code",
   "execution_count": null,
   "metadata": {
    "colab": {
     "base_uri": "https://localhost:8080/",
     "height": 435
    },
    "id": "k923MCVjmQ1z",
    "outputId": "454b82d5-b7f0-4d3d-d729-1605621d321a"
   },
   "outputs": [
    {
     "name": "stdout",
     "output_type": "stream",
     "text": [
      "         Days completed  Duration   Progress\n",
      "Project                                     \n",
      "Alpha          2.625000  6.875000  41.875000\n",
      "Delta          3.285714  7.285714  43.142857\n",
      "Gemini         2.200000  6.700000  33.200000\n",
      "Orion          3.000000  6.100000  51.300000\n",
      "Vega           3.200000  6.400000  53.800000\n"
     ]
    },
    {
     "data": {
      "image/png": "[encoded data removed]",
      "text/plain": [
       "<Figure size 432x288 with 1 Axes>"
      ]
     },
     "metadata": {
      "tags": []
     },
     "output_type": "display_data"
    }
   ],
   "source": [
    "#overall workhours of all the projects.\n",
    "workhours=pd.pivot_table(data=data, index=[\"Project\"])\n",
    "print(workhours)\n",
    "\n",
    "workhours.plot(kind='bar')\n",
    "plt.legend(loc=\"upper left\",bbox_to_anchor=(1,1))\n",
    "plt.show()"
   ]
  },
  {
   "cell_type": "markdown",
   "metadata": {
    "id": "BypKhvkjmQ10"
   },
   "source": [
    "## **ANALYSIS ACCORDING TO THE MANAGER: EMPLOYEE ANALYSIS**"
   ]
  },
  {
   "cell_type": "markdown",
   "metadata": {
    "id": "ekPC8XoYmQ10"
   },
   "source": [
    "### According to the input given by the user"
   ]
  },
  {
   "cell_type": "code",
   "execution_count": 14,
   "metadata": {
    "colab": {
     "base_uri": "https://localhost:8080/",
     "height": 311
    },
    "id": "0GBj1meHmQ10",
    "outputId": "ff0b3a27-5c7e-417d-81c5-47e58a3b0c5e"
   },
   "outputs": [
    {
     "name": "stdout",
     "output_type": "stream",
     "text": [
      "samora\n"
     ]
    },
    {
     "data": {
      "text/html": [
       "<div>\n",
       "<style scoped>\n",
       "    .dataframe tbody tr th:only-of-type {\n",
       "        vertical-align: middle;\n",
       "    }\n",
       "\n",
       "    .dataframe tbody tr th {\n",
       "        vertical-align: top;\n",
       "    }\n",
       "\n",
       "    .dataframe thead th {\n",
       "        text-align: right;\n",
       "    }\n",
       "</style>\n",
       "<table border=\"1\" class=\"dataframe\">\n",
       "  <thead>\n",
       "    <tr style=\"text-align: right;\">\n",
       "      <th></th>\n",
       "      <th>Project</th>\n",
       "      <th>Task</th>\n",
       "      <th>Manager</th>\n",
       "      <th>Start Date</th>\n",
       "      <th>Duration</th>\n",
       "      <th>End Date</th>\n",
       "      <th>Days completed</th>\n",
       "      <th>Progress</th>\n",
       "    </tr>\n",
       "  </thead>\n",
       "  <tbody>\n",
       "    <tr>\n",
       "      <th>1</th>\n",
       "      <td>Gemini</td>\n",
       "      <td>Task 2</td>\n",
       "      <td>Samora</td>\n",
       "      <td>17-02-2020</td>\n",
       "      <td>6</td>\n",
       "      <td>24-02-2020</td>\n",
       "      <td>3</td>\n",
       "      <td>50</td>\n",
       "    </tr>\n",
       "    <tr>\n",
       "      <th>6</th>\n",
       "      <td>Gemini</td>\n",
       "      <td>Task 7</td>\n",
       "      <td>Samora</td>\n",
       "      <td>20-02-2020</td>\n",
       "      <td>7</td>\n",
       "      <td>28-02-2020</td>\n",
       "      <td>3</td>\n",
       "      <td>43</td>\n",
       "    </tr>\n",
       "    <tr>\n",
       "      <th>11</th>\n",
       "      <td>Orion</td>\n",
       "      <td>Task 2</td>\n",
       "      <td>Samora</td>\n",
       "      <td>17-02-2020</td>\n",
       "      <td>9</td>\n",
       "      <td>27-02-2020</td>\n",
       "      <td>4</td>\n",
       "      <td>44</td>\n",
       "    </tr>\n",
       "    <tr>\n",
       "      <th>16</th>\n",
       "      <td>Orion</td>\n",
       "      <td>Task 7</td>\n",
       "      <td>Samora</td>\n",
       "      <td>24-02-2020</td>\n",
       "      <td>6</td>\n",
       "      <td>02-03-2020</td>\n",
       "      <td>5</td>\n",
       "      <td>83</td>\n",
       "    </tr>\n",
       "    <tr>\n",
       "      <th>21</th>\n",
       "      <td>Vega</td>\n",
       "      <td>Task 2</td>\n",
       "      <td>Samora</td>\n",
       "      <td>21-02-2020</td>\n",
       "      <td>5</td>\n",
       "      <td>27-02-2020</td>\n",
       "      <td>4</td>\n",
       "      <td>80</td>\n",
       "    </tr>\n",
       "    <tr>\n",
       "      <th>26</th>\n",
       "      <td>Delta</td>\n",
       "      <td>Task 2</td>\n",
       "      <td>Samora</td>\n",
       "      <td>02-03-2020</td>\n",
       "      <td>10</td>\n",
       "      <td>13-03-2020</td>\n",
       "      <td>2</td>\n",
       "      <td>20</td>\n",
       "    </tr>\n",
       "    <tr>\n",
       "      <th>31</th>\n",
       "      <td>Delta</td>\n",
       "      <td>Task 7</td>\n",
       "      <td>Samora</td>\n",
       "      <td>25-02-2020</td>\n",
       "      <td>4</td>\n",
       "      <td>28-02-2020</td>\n",
       "      <td>2</td>\n",
       "      <td>50</td>\n",
       "    </tr>\n",
       "    <tr>\n",
       "      <th>36</th>\n",
       "      <td>Alpha</td>\n",
       "      <td>Task 5</td>\n",
       "      <td>Samora</td>\n",
       "      <td>21-02-2020</td>\n",
       "      <td>7</td>\n",
       "      <td>02-03-2020</td>\n",
       "      <td>3</td>\n",
       "      <td>43</td>\n",
       "    </tr>\n",
       "  </tbody>\n",
       "</table>\n",
       "</div>"
      ],
      "text/plain": [
       "   Project    Task Manager  Start Date  Duration    End Date  Days completed  \\\n",
       "1   Gemini  Task 2  Samora  17-02-2020         6  24-02-2020               3   \n",
       "6   Gemini  Task 7  Samora  20-02-2020         7  28-02-2020               3   \n",
       "11   Orion  Task 2  Samora  17-02-2020         9  27-02-2020               4   \n",
       "16   Orion  Task 7  Samora  24-02-2020         6  02-03-2020               5   \n",
       "21    Vega  Task 2  Samora  21-02-2020         5  27-02-2020               4   \n",
       "26   Delta  Task 2  Samora  02-03-2020        10  13-03-2020               2   \n",
       "31   Delta  Task 7  Samora  25-02-2020         4  28-02-2020               2   \n",
       "36   Alpha  Task 5  Samora  21-02-2020         7  02-03-2020               3   \n",
       "\n",
       "    Progress  \n",
       "1         50  \n",
       "6         43  \n",
       "11        44  \n",
       "16        83  \n",
       "21        80  \n",
       "26        20  \n",
       "31        50  \n",
       "36        43  "
      ]
     },
     "execution_count": 14,
     "metadata": {},
     "output_type": "execute_result"
    }
   ],
   "source": [
    "man=['Samora','McFay','Wood','Ladd','Hirsch']\n",
    "\n",
    "while True:\n",
    "    reqd=input()\n",
    "    reqd=reqd.capitalize()\n",
    "    if(reqd=='Mcfay'):\n",
    "        reqd='McFay'\n",
    "    if(reqd in man):\n",
    "        break\n",
    "filt1=(data['Manager'] == reqd ) #filtering out the required project manager\n",
    "dataManager=data[filt1]\n",
    "dataManager"
   ]
  },
  {
   "cell_type": "markdown",
   "metadata": {
    "id": "UVcIKiugLyf6"
   },
   "source": [
    "### PROGRESS FOR EACH MANAGER"
   ]
  },
  {
   "cell_type": "code",
   "execution_count": null,
   "metadata": {
    "colab": {
     "base_uri": "https://localhost:8080/",
     "height": 285
    },
    "id": "3xurWKuwmQ10",
    "outputId": "a4594a3e-4c63-40d3-d74d-b80afcceb923"
   },
   "outputs": [
    {
     "data": {
      "image/png": "[encoded data removed]",
      "text/plain": [
       "<Figure size 432x288 with 1 Axes>"
      ]
     },
     "metadata": {
      "tags": []
     },
     "output_type": "display_data"
    }
   ],
   "source": [
    "sns.set()\n",
    "dataManager.pivot_table('Progress', index='Task', columns='Manager', aggfunc='mean').plot()\n",
    "plt.ylabel('Average progress');\n",
    "plt.legend(loc='upper left',bbox_to_anchor=(1,1));"
   ]
  },
  {
   "cell_type": "code",
   "execution_count": null,
   "metadata": {
    "colab": {
     "base_uri": "https://localhost:8080/",
     "height": 285
    },
    "id": "W7oyHHnxmQ11",
    "outputId": "42d8fe13-05af-4216-dced-5fe3902dff90"
   },
   "outputs": [
    {
     "data": {
      "image/png": "[encoded data removed]",
      "text/plain": [
       "<Figure size 432x288 with 1 Axes>"
      ]
     },
     "metadata": {
      "tags": []
     },
     "output_type": "display_data"
    }
   ],
   "source": [
    "sns.set()\n",
    "dataManager.pivot_table('Progress', index='Task', columns='Manager', aggfunc='mean').plot()\n",
    "plt.ylabel('Average progress');\n",
    "plt.legend(loc='upper left',bbox_to_anchor=(1,1));"
   ]
  },
  {
   "cell_type": "code",
   "execution_count": 11,
   "metadata": {
    "colab": {
     "base_uri": "https://localhost:8080/",
     "height": 285
    },
    "id": "NRTCKcBRmQ11",
    "outputId": "2a518124-1664-4b24-c93c-eca33e7274df"
   },
   "outputs": [
    {
     "data": {
      "image/png": "[encoded data removed]",
      "text/plain": [
       "<Figure size 432x288 with 1 Axes>"
      ]
     },
     "metadata": {},
     "output_type": "display_data"
    }
   ],
   "source": [
    "sns.set()\n",
    "dataManager.pivot_table('Progress', index='Task', columns='Manager', aggfunc='mean').plot()\n",
    "plt.ylabel('Average progress');\n",
    "plt.legend(loc='upper left',bbox_to_anchor=(1,1));"
   ]
  },
  {
   "cell_type": "code",
   "execution_count": 13,
   "metadata": {
    "colab": {
     "base_uri": "https://localhost:8080/",
     "height": 285
    },
    "id": "T85yrzZrmQ11",
    "outputId": "570f5c94-767f-49fb-cc9d-67eb416fae95"
   },
   "outputs": [
    {
     "data": {
      "image/png": "[encoded data removed]",
      "text/plain": [
       "<Figure size 432x288 with 1 Axes>"
      ]
     },
     "metadata": {},
     "output_type": "display_data"
    }
   ],
   "source": [
    "sns.set()\n",
    "dataManager.pivot_table('Progress', index='Task', columns='Manager', aggfunc='mean').plot()\n",
    "plt.ylabel('Average progress');\n",
    "plt.legend(loc='upper left',bbox_to_anchor=(1,1));"
   ]
  },
  {
   "cell_type": "code",
   "execution_count": 15,
   "metadata": {
    "colab": {
     "base_uri": "https://localhost:8080/",
     "height": 285
    },
    "id": "bwkJhVqdmQ11",
    "outputId": "ed4b4726-5b50-44e3-bd43-e2e4f8a49976"
   },
   "outputs": [
    {
     "data": {
      "image/png": "[encoded data removed]",
      "text/plain": [
       "<Figure size 432x288 with 1 Axes>"
      ]
     },
     "metadata": {},
     "output_type": "display_data"
    }
   ],
   "source": [
    "sns.set()\n",
    "dataManager.pivot_table('Progress', index='Task', columns='Manager', aggfunc='mean').plot()\n",
    "plt.ylabel('Average progress');\n",
    "plt.legend(loc='upper left',bbox_to_anchor=(1,1));"
   ]
  },
  {
   "cell_type": "code",
   "execution_count": null,
   "metadata": {
    "colab": {
     "base_uri": "https://localhost:8080/",
     "height": 542
    },
    "id": "amacFgXKmQ12",
    "outputId": "5d584287-a8ee-46ca-f7cc-4b8ab1a5e3fc"
   },
   "outputs": [
    {
     "data": {
      "text/html": [
       "<html>\n",
       "<head><meta charset=\"utf-8\" /></head>\n",
       "<body>\n",
       "    <div>\n",
       "            <script src=\"https://cdnjs.cloudflare.com/ajax/libs/mathjax/2.7.5/MathJax.js?config=TeX-AMS-MML_SVG\"></script><script type=\"text/javascript\">if (window.MathJax) {MathJax.Hub.Config({SVG: {font: \"STIX-Web\"}});}</script>\n",
       "                <script type=\"text/javascript\">window.PlotlyConfig = {MathJaxConfig: 'local'};</script>\n",
       "        <script src=\"https://cdn.plot.ly/plotly-latest.min.js\"></script>    \n",
       "            <div id=\"e6035985-f871-4e6f-9e28-1acb7dc8b745\" class=\"plotly-graph-div\" style=\"height:525px; width:100%;\"></div>\n",
       "            <script type=\"text/javascript\">\n",
       "                \n",
       "                    window.PLOTLYENV=window.PLOTLYENV || {};\n",
       "                    \n",
       "                if (document.getElementById(\"e6035985-f871-4e6f-9e28-1acb7dc8b745\")) {\n",
       "                    Plotly.newPlot(\n",
       "                        'e6035985-f871-4e6f-9e28-1acb7dc8b745',\n",
       "                        [{\"domain\": {\"x\": [0.0, 1.0], \"y\": [0.0, 1.0]}, \"hoverlabel\": {\"namelength\": 0}, \"hovertemplate\": \"Task=%{label}<br>Progress=%{value}\", \"labels\": [\"Task 3\", \"Task 8\", \"Task 3\", \"Task 8\", \"Task 3\", \"Task 3\", \"Task 1\", \"Task 6\"], \"legendgroup\": \"\", \"name\": \"\", \"showlegend\": true, \"type\": \"pie\", \"values\": [40, 40, 0, 25, 43, 0, 38, 20]}],\n",
       "                        {\"legend\": {\"tracegroupgap\": 0}, \"margin\": {\"t\": 60}, \"template\": {\"data\": {\"bar\": [{\"error_x\": {\"color\": \"#2a3f5f\"}, \"error_y\": {\"color\": \"#2a3f5f\"}, \"marker\": {\"line\": {\"color\": \"#E5ECF6\", \"width\": 0.5}}, \"type\": \"bar\"}], \"barpolar\": [{\"marker\": {\"line\": {\"color\": \"#E5ECF6\", \"width\": 0.5}}, \"type\": \"barpolar\"}], \"carpet\": [{\"aaxis\": {\"endlinecolor\": \"#2a3f5f\", \"gridcolor\": \"white\", \"linecolor\": \"white\", \"minorgridcolor\": \"white\", \"startlinecolor\": \"#2a3f5f\"}, \"baxis\": {\"endlinecolor\": \"#2a3f5f\", \"gridcolor\": \"white\", \"linecolor\": \"white\", \"minorgridcolor\": \"white\", \"startlinecolor\": \"#2a3f5f\"}, \"type\": \"carpet\"}], \"choropleth\": [{\"colorbar\": {\"outlinewidth\": 0, \"ticks\": \"\"}, \"type\": \"choropleth\"}], \"contour\": [{\"colorbar\": {\"outlinewidth\": 0, \"ticks\": \"\"}, \"colorscale\": [[0.0, \"#0d0887\"], [0.1111111111111111, \"#46039f\"], [0.2222222222222222, \"#7201a8\"], [0.3333333333333333, \"#9c179e\"], [0.4444444444444444, \"#bd3786\"], [0.5555555555555556, \"#d8576b\"], [0.6666666666666666, \"#ed7953\"], [0.7777777777777778, \"#fb9f3a\"], [0.8888888888888888, \"#fdca26\"], [1.0, \"#f0f921\"]], \"type\": \"contour\"}], \"contourcarpet\": [{\"colorbar\": {\"outlinewidth\": 0, \"ticks\": \"\"}, \"type\": \"contourcarpet\"}], \"heatmap\": [{\"colorbar\": {\"outlinewidth\": 0, \"ticks\": \"\"}, \"colorscale\": [[0.0, \"#0d0887\"], [0.1111111111111111, \"#46039f\"], [0.2222222222222222, \"#7201a8\"], [0.3333333333333333, \"#9c179e\"], [0.4444444444444444, \"#bd3786\"], [0.5555555555555556, \"#d8576b\"], [0.6666666666666666, \"#ed7953\"], [0.7777777777777778, \"#fb9f3a\"], [0.8888888888888888, \"#fdca26\"], [1.0, \"#f0f921\"]], \"type\": \"heatmap\"}], \"heatmapgl\": [{\"colorbar\": {\"outlinewidth\": 0, \"ticks\": \"\"}, \"colorscale\": [[0.0, \"#0d0887\"], [0.1111111111111111, \"#46039f\"], [0.2222222222222222, \"#7201a8\"], [0.3333333333333333, \"#9c179e\"], [0.4444444444444444, \"#bd3786\"], [0.5555555555555556, \"#d8576b\"], [0.6666666666666666, \"#ed7953\"], [0.7777777777777778, \"#fb9f3a\"], [0.8888888888888888, \"#fdca26\"], [1.0, \"#f0f921\"]], \"type\": \"heatmapgl\"}], \"histogram\": [{\"marker\": {\"colorbar\": {\"outlinewidth\": 0, \"ticks\": \"\"}}, \"type\": \"histogram\"}], \"histogram2d\": [{\"colorbar\": {\"outlinewidth\": 0, \"ticks\": \"\"}, \"colorscale\": [[0.0, \"#0d0887\"], [0.1111111111111111, \"#46039f\"], [0.2222222222222222, \"#7201a8\"], [0.3333333333333333, \"#9c179e\"], [0.4444444444444444, \"#bd3786\"], [0.5555555555555556, \"#d8576b\"], [0.6666666666666666, \"#ed7953\"], [0.7777777777777778, \"#fb9f3a\"], [0.8888888888888888, \"#fdca26\"], [1.0, \"#f0f921\"]], \"type\": \"histogram2d\"}], \"histogram2dcontour\": [{\"colorbar\": {\"outlinewidth\": 0, \"ticks\": \"\"}, \"colorscale\": [[0.0, \"#0d0887\"], [0.1111111111111111, \"#46039f\"], [0.2222222222222222, \"#7201a8\"], [0.3333333333333333, \"#9c179e\"], [0.4444444444444444, \"#bd3786\"], [0.5555555555555556, \"#d8576b\"], [0.6666666666666666, \"#ed7953\"], [0.7777777777777778, \"#fb9f3a\"], [0.8888888888888888, \"#fdca26\"], [1.0, \"#f0f921\"]], \"type\": \"histogram2dcontour\"}], \"mesh3d\": [{\"colorbar\": {\"outlinewidth\": 0, \"ticks\": \"\"}, \"type\": \"mesh3d\"}], \"parcoords\": [{\"line\": {\"colorbar\": {\"outlinewidth\": 0, \"ticks\": \"\"}}, \"type\": \"parcoords\"}], \"pie\": [{\"automargin\": true, \"type\": \"pie\"}], \"scatter\": [{\"marker\": {\"colorbar\": {\"outlinewidth\": 0, \"ticks\": \"\"}}, \"type\": \"scatter\"}], \"scatter3d\": [{\"line\": {\"colorbar\": {\"outlinewidth\": 0, \"ticks\": \"\"}}, \"marker\": {\"colorbar\": {\"outlinewidth\": 0, \"ticks\": \"\"}}, \"type\": \"scatter3d\"}], \"scattercarpet\": [{\"marker\": {\"colorbar\": {\"outlinewidth\": 0, \"ticks\": \"\"}}, \"type\": \"scattercarpet\"}], \"scattergeo\": [{\"marker\": {\"colorbar\": {\"outlinewidth\": 0, \"ticks\": \"\"}}, \"type\": \"scattergeo\"}], \"scattergl\": [{\"marker\": {\"colorbar\": {\"outlinewidth\": 0, \"ticks\": \"\"}}, \"type\": \"scattergl\"}], \"scattermapbox\": [{\"marker\": {\"colorbar\": {\"outlinewidth\": 0, \"ticks\": \"\"}}, \"type\": \"scattermapbox\"}], \"scatterpolar\": [{\"marker\": {\"colorbar\": {\"outlinewidth\": 0, \"ticks\": \"\"}}, \"type\": \"scatterpolar\"}], \"scatterpolargl\": [{\"marker\": {\"colorbar\": {\"outlinewidth\": 0, \"ticks\": \"\"}}, \"type\": \"scatterpolargl\"}], \"scatterternary\": [{\"marker\": {\"colorbar\": {\"outlinewidth\": 0, \"ticks\": \"\"}}, \"type\": \"scatterternary\"}], \"surface\": [{\"colorbar\": {\"outlinewidth\": 0, \"ticks\": \"\"}, \"colorscale\": [[0.0, \"#0d0887\"], [0.1111111111111111, \"#46039f\"], [0.2222222222222222, \"#7201a8\"], [0.3333333333333333, \"#9c179e\"], [0.4444444444444444, \"#bd3786\"], [0.5555555555555556, \"#d8576b\"], [0.6666666666666666, \"#ed7953\"], [0.7777777777777778, \"#fb9f3a\"], [0.8888888888888888, \"#fdca26\"], [1.0, \"#f0f921\"]], \"type\": \"surface\"}], \"table\": [{\"cells\": {\"fill\": {\"color\": \"#EBF0F8\"}, \"line\": {\"color\": \"white\"}}, \"header\": {\"fill\": {\"color\": \"#C8D4E3\"}, \"line\": {\"color\": \"white\"}}, \"type\": \"table\"}]}, \"layout\": {\"annotationdefaults\": {\"arrowcolor\": \"#2a3f5f\", \"arrowhead\": 0, \"arrowwidth\": 1}, \"coloraxis\": {\"colorbar\": {\"outlinewidth\": 0, \"ticks\": \"\"}}, \"colorscale\": {\"diverging\": [[0, \"#8e0152\"], [0.1, \"#c51b7d\"], [0.2, \"#de77ae\"], [0.3, \"#f1b6da\"], [0.4, \"#fde0ef\"], [0.5, \"#f7f7f7\"], [0.6, \"#e6f5d0\"], [0.7, \"#b8e186\"], [0.8, \"#7fbc41\"], [0.9, \"#4d9221\"], [1, \"#276419\"]], \"sequential\": [[0.0, \"#0d0887\"], [0.1111111111111111, \"#46039f\"], [0.2222222222222222, \"#7201a8\"], [0.3333333333333333, \"#9c179e\"], [0.4444444444444444, \"#bd3786\"], [0.5555555555555556, \"#d8576b\"], [0.6666666666666666, \"#ed7953\"], [0.7777777777777778, \"#fb9f3a\"], [0.8888888888888888, \"#fdca26\"], [1.0, \"#f0f921\"]], \"sequentialminus\": [[0.0, \"#0d0887\"], [0.1111111111111111, \"#46039f\"], [0.2222222222222222, \"#7201a8\"], [0.3333333333333333, \"#9c179e\"], [0.4444444444444444, \"#bd3786\"], [0.5555555555555556, \"#d8576b\"], [0.6666666666666666, \"#ed7953\"], [0.7777777777777778, \"#fb9f3a\"], [0.8888888888888888, \"#fdca26\"], [1.0, \"#f0f921\"]]}, \"colorway\": [\"#636efa\", \"#EF553B\", \"#00cc96\", \"#ab63fa\", \"#FFA15A\", \"#19d3f3\", \"#FF6692\", \"#B6E880\", \"#FF97FF\", \"#FECB52\"], \"font\": {\"color\": \"#2a3f5f\"}, \"geo\": {\"bgcolor\": \"white\", \"lakecolor\": \"white\", \"landcolor\": \"#E5ECF6\", \"showlakes\": true, \"showland\": true, \"subunitcolor\": \"white\"}, \"hoverlabel\": {\"align\": \"left\"}, \"hovermode\": \"closest\", \"mapbox\": {\"style\": \"light\"}, \"paper_bgcolor\": \"white\", \"plot_bgcolor\": \"#E5ECF6\", \"polar\": {\"angularaxis\": {\"gridcolor\": \"white\", \"linecolor\": \"white\", \"ticks\": \"\"}, \"bgcolor\": \"#E5ECF6\", \"radialaxis\": {\"gridcolor\": \"white\", \"linecolor\": \"white\", \"ticks\": \"\"}}, \"scene\": {\"xaxis\": {\"backgroundcolor\": \"#E5ECF6\", \"gridcolor\": \"white\", \"gridwidth\": 2, \"linecolor\": \"white\", \"showbackground\": true, \"ticks\": \"\", \"zerolinecolor\": \"white\"}, \"yaxis\": {\"backgroundcolor\": \"#E5ECF6\", \"gridcolor\": \"white\", \"gridwidth\": 2, \"linecolor\": \"white\", \"showbackground\": true, \"ticks\": \"\", \"zerolinecolor\": \"white\"}, \"zaxis\": {\"backgroundcolor\": \"#E5ECF6\", \"gridcolor\": \"white\", \"gridwidth\": 2, \"linecolor\": \"white\", \"showbackground\": true, \"ticks\": \"\", \"zerolinecolor\": \"white\"}}, \"shapedefaults\": {\"line\": {\"color\": \"#2a3f5f\"}}, \"ternary\": {\"aaxis\": {\"gridcolor\": \"white\", \"linecolor\": \"white\", \"ticks\": \"\"}, \"baxis\": {\"gridcolor\": \"white\", \"linecolor\": \"white\", \"ticks\": \"\"}, \"bgcolor\": \"#E5ECF6\", \"caxis\": {\"gridcolor\": \"white\", \"linecolor\": \"white\", \"ticks\": \"\"}}, \"title\": {\"x\": 0.05}, \"xaxis\": {\"automargin\": true, \"gridcolor\": \"white\", \"linecolor\": \"white\", \"ticks\": \"\", \"title\": {\"standoff\": 15}, \"zerolinecolor\": \"white\", \"zerolinewidth\": 2}, \"yaxis\": {\"automargin\": true, \"gridcolor\": \"white\", \"linecolor\": \"white\", \"ticks\": \"\", \"title\": {\"standoff\": 15}, \"zerolinecolor\": \"white\", \"zerolinewidth\": 2}}}, \"title\": {\"text\": \"AVERAGE PROGRESS FOR EACH TASK ACCORDING TO THE MANAGER\", \"x\": 0.5}},\n",
       "                        {\"responsive\": true}\n",
       "                    ).then(function(){\n",
       "                            \n",
       "var gd = document.getElementById('e6035985-f871-4e6f-9e28-1acb7dc8b745');\n",
       "var x = new MutationObserver(function (mutations, observer) {{\n",
       "        var display = window.getComputedStyle(gd).display;\n",
       "        if (!display || display === 'none') {{\n",
       "            console.log([gd, 'removed!']);\n",
       "            Plotly.purge(gd);\n",
       "            observer.disconnect();\n",
       "        }}\n",
       "}});\n",
       "\n",
       "// Listen for the removal of the full notebook cells\n",
       "var notebookContainer = gd.closest('#notebook-container');\n",
       "if (notebookContainer) {{\n",
       "    x.observe(notebookContainer, {childList: true});\n",
       "}}\n",
       "\n",
       "// Listen for the clearing of the current output cell\n",
       "var outputEl = gd.closest('.output');\n",
       "if (outputEl) {{\n",
       "    x.observe(outputEl, {childList: true});\n",
       "}}\n",
       "\n",
       "                        })\n",
       "                };\n",
       "                \n",
       "            </script>\n",
       "        </div>\n",
       "</body>\n",
       "</html>"
      ]
     },
     "metadata": {
      "tags": []
     },
     "output_type": "display_data"
    }
   ],
   "source": [
    "fig_pie=px.pie(data_frame=dataManager,names='Task',values='Progress')\n",
    "fig_pie.update_layout(title_text='AVERAGE PROGRESS FOR EACH TASK ACCORDING TO THE MANAGER', title_x=0.5)\n",
    "fig_pie.show()"
   ]
  },
  {
   "cell_type": "markdown",
   "metadata": {
    "id": "ppQ4YWkzmQ12"
   },
   "source": [
    "### Efficiency analysis based on the user input"
   ]
  },
  {
   "cell_type": "code",
   "execution_count": null,
   "metadata": {
    "id": "J0avElK-mQ12",
    "outputId": "fe9c49ab-04d6-4ee5-80ee-020f0c3f7b81"
   },
   "outputs": [
    {
     "name": "stdout",
     "output_type": "stream",
     "text": [
      "         Days completed  Duration  Progress\n",
      "Manager                                    \n",
      "Wood                  3      8.25        37\n"
     ]
    },
    {
     "data": {
      "image/png": "[encoded data removed]",
      "text/plain": [
       "<Figure size 432x288 with 1 Axes>"
      ]
     },
     "metadata": {
      "tags": []
     },
     "output_type": "display_data"
    }
   ],
   "source": [
    "Efficient=pd.pivot_table(data=dataManager, index=[\"Manager\"])\n",
    "print(Efficient)\n",
    "\n",
    "Efficient.plot(kind='bar')\n",
    "plt.legend(loc=\"upper left\",bbox_to_anchor=(1,1))\n",
    "plt.show()"
   ]
  },
  {
   "cell_type": "markdown",
   "metadata": {
    "id": "oVafQCVRmQ12"
   },
   "source": [
    "### Analysis for overall list of managers: Employee performance measure"
   ]
  },
  {
   "cell_type": "code",
   "execution_count": null,
   "metadata": {
    "id": "slOGX2FzmQ13"
   },
   "outputs": [],
   "source": [
    "ns_hirsch = data.query('Manager == \"Hirsch\" and Progress==0')\n",
    "compl_hirsch = data.query('Manager == \"Hirsch\" and Progress==100')\n",
    "in_prog_hirsch = data.query('Manager == \"Hirsch\" and Progress>0 and  Progress<100')"
   ]
  },
  {
   "cell_type": "code",
   "execution_count": null,
   "metadata": {
    "id": "RAhW4zyymQ13"
   },
   "outputs": [],
   "source": [
    "ns_ladd = data.query('Manager == \"Ladd\" and Progress==0')\n",
    "compl_ladd = data.query('Manager == \"Ladd\" and Progress==100')\n",
    "in_prog_ladd = data.query('Manager == \"Ladd\" and Progress>0 and  Progress<100')"
   ]
  },
  {
   "cell_type": "code",
   "execution_count": null,
   "metadata": {
    "id": "2VpYypVymQ13"
   },
   "outputs": [],
   "source": [
    "ns_mcfay = data.query('Manager == \"McFay\" and Progress==0')\n",
    "compl_mcfay = data.query('Manager == \"McFay\" and Progress==100')\n",
    "in_prog_mcfay = data.query('Manager == \"McFay\" and Progress>0 and  Progress<100')"
   ]
  },
  {
   "cell_type": "code",
   "execution_count": null,
   "metadata": {
    "id": "AG3re3KHmQ13"
   },
   "outputs": [],
   "source": [
    "ns_samora= data.query('Manager == \"Samora\" and Progress==0')\n",
    "compl_samora = data.query('Manager == \"Samora\" and Progress==100')\n",
    "in_prog_samora = data.query('Manager == \"Samora\" and Progress>0 and  Progress<100')"
   ]
  },
  {
   "cell_type": "code",
   "execution_count": null,
   "metadata": {
    "id": "2KjeXX24mQ13"
   },
   "outputs": [],
   "source": [
    "ns_wood = data.query('Manager == \"Wood\" and Progress==0')\n",
    "compl_wood = data.query('Manager == \"Wood\" and Progress==100')\n",
    "in_prog_wood = data.query('Manager == \"Wood\" and Progress>0 and  Progress<100')"
   ]
  },
  {
   "cell_type": "code",
   "execution_count": null,
   "metadata": {
    "id": "uXNZ9XgGmQ14",
    "outputId": "e18a08a3-9c20-409b-e7a2-823649c295ad"
   },
   "outputs": [
    {
     "data": {
      "image/png": "[encoded data removed]",
      "text/plain": [
       "<Figure size 432x288 with 1 Axes>"
      ]
     },
     "metadata": {
      "tags": []
     },
     "output_type": "display_data"
    }
   ],
   "source": [
    "lm=['Hirsch','Ladd','McFay','Samora','Wood']\n",
    "ns_m=[ns_hirsch['Task'].count(),ns_ladd['Task'].count(),ns_mcfay['Task'].count(),ns_samora['Task'].count(),ns_wood['Task'].count()]\n",
    "compl_m=[compl_hirsch['Task'].count(),compl_ladd['Task'].count(),compl_mcfay['Task'].count(),compl_samora['Task'].count(),compl_wood['Task'].count()]\n",
    "in_prog_m=[in_prog_hirsch['Task'].count(),in_prog_ladd['Task'].count(),in_prog_mcfay['Task'].count(),in_prog_samora['Task'].count(),in_prog_wood['Task'].count()]\n",
    "plt.barh(lm,ns_m,color=\"#f3e151\")\n",
    "plt.barh(lm,in_prog_m,left=ns_m,color=\"#6c3376\")\n",
    "plt.barh(lm,compl_m,left=np.add(ns_m,in_prog_m),color=\"#008000\")\n",
    "plt.show();"
   ]
  },
  {
   "cell_type": "code",
   "execution_count": null,
   "metadata": {
    "id": "MdslUs3_mQ14",
    "outputId": "33d97ead-27d7-45a2-fec3-b20fd05fffb2"
   },
   "outputs": [
    {
     "data": {
      "text/html": [
       "<div>\n",
       "<style scoped>\n",
       "    .dataframe tbody tr th:only-of-type {\n",
       "        vertical-align: middle;\n",
       "    }\n",
       "\n",
       "    .dataframe tbody tr th {\n",
       "        vertical-align: top;\n",
       "    }\n",
       "\n",
       "    .dataframe thead th {\n",
       "        text-align: right;\n",
       "    }\n",
       "</style>\n",
       "<table border=\"1\" class=\"dataframe\">\n",
       "  <thead>\n",
       "    <tr style=\"text-align: right;\">\n",
       "      <th>Task</th>\n",
       "      <th>Task 1</th>\n",
       "      <th>Task 10</th>\n",
       "      <th>Task 2</th>\n",
       "      <th>Task 3</th>\n",
       "      <th>Task 4</th>\n",
       "      <th>Task 5</th>\n",
       "      <th>Task 6</th>\n",
       "      <th>Task 7</th>\n",
       "      <th>Task 8</th>\n",
       "      <th>Task 9</th>\n",
       "    </tr>\n",
       "    <tr>\n",
       "      <th>Manager</th>\n",
       "      <th></th>\n",
       "      <th></th>\n",
       "      <th></th>\n",
       "      <th></th>\n",
       "      <th></th>\n",
       "      <th></th>\n",
       "      <th></th>\n",
       "      <th></th>\n",
       "      <th></th>\n",
       "      <th></th>\n",
       "    </tr>\n",
       "  </thead>\n",
       "  <tbody>\n",
       "    <tr>\n",
       "      <th>Hirsch</th>\n",
       "      <td>69.75</td>\n",
       "      <td>NaN</td>\n",
       "      <td>NaN</td>\n",
       "      <td>NaN</td>\n",
       "      <td>100.0</td>\n",
       "      <td>NaN</td>\n",
       "      <td>33.333333</td>\n",
       "      <td>NaN</td>\n",
       "      <td>NaN</td>\n",
       "      <td>NaN</td>\n",
       "    </tr>\n",
       "    <tr>\n",
       "      <th>Ladd</th>\n",
       "      <td>NaN</td>\n",
       "      <td>75.0</td>\n",
       "      <td>NaN</td>\n",
       "      <td>60.00</td>\n",
       "      <td>NaN</td>\n",
       "      <td>36.75</td>\n",
       "      <td>NaN</td>\n",
       "      <td>NaN</td>\n",
       "      <td>0.0</td>\n",
       "      <td>NaN</td>\n",
       "    </tr>\n",
       "    <tr>\n",
       "      <th>McFay</th>\n",
       "      <td>38.00</td>\n",
       "      <td>NaN</td>\n",
       "      <td>NaN</td>\n",
       "      <td>20.75</td>\n",
       "      <td>NaN</td>\n",
       "      <td>NaN</td>\n",
       "      <td>20.000000</td>\n",
       "      <td>NaN</td>\n",
       "      <td>32.5</td>\n",
       "      <td>NaN</td>\n",
       "    </tr>\n",
       "    <tr>\n",
       "      <th>Samora</th>\n",
       "      <td>NaN</td>\n",
       "      <td>NaN</td>\n",
       "      <td>48.5</td>\n",
       "      <td>NaN</td>\n",
       "      <td>NaN</td>\n",
       "      <td>43.00</td>\n",
       "      <td>NaN</td>\n",
       "      <td>58.666667</td>\n",
       "      <td>NaN</td>\n",
       "      <td>NaN</td>\n",
       "    </tr>\n",
       "    <tr>\n",
       "      <th>Wood</th>\n",
       "      <td>NaN</td>\n",
       "      <td>NaN</td>\n",
       "      <td>44.0</td>\n",
       "      <td>NaN</td>\n",
       "      <td>42.0</td>\n",
       "      <td>NaN</td>\n",
       "      <td>NaN</td>\n",
       "      <td>30.000000</td>\n",
       "      <td>NaN</td>\n",
       "      <td>27.0</td>\n",
       "    </tr>\n",
       "  </tbody>\n",
       "</table>\n",
       "</div>"
      ],
      "text/plain": [
       "Task     Task 1  Task 10  Task 2  Task 3  Task 4  Task 5     Task 6  \\\n",
       "Manager                                                               \n",
       "Hirsch    69.75      NaN     NaN     NaN   100.0     NaN  33.333333   \n",
       "Ladd        NaN     75.0     NaN   60.00     NaN   36.75        NaN   \n",
       "McFay     38.00      NaN     NaN   20.75     NaN     NaN  20.000000   \n",
       "Samora      NaN      NaN    48.5     NaN     NaN   43.00        NaN   \n",
       "Wood        NaN      NaN    44.0     NaN    42.0     NaN        NaN   \n",
       "\n",
       "Task        Task 7  Task 8  Task 9  \n",
       "Manager                             \n",
       "Hirsch         NaN     NaN     NaN  \n",
       "Ladd           NaN     0.0     NaN  \n",
       "McFay          NaN    32.5     NaN  \n",
       "Samora   58.666667     NaN     NaN  \n",
       "Wood     30.000000     NaN    27.0  "
      ]
     },
     "execution_count": 49,
     "metadata": {
      "tags": []
     },
     "output_type": "execute_result"
    }
   ],
   "source": [
    "data.groupby(['Manager','Task'])['Progress'].aggregate('mean').unstack()"
   ]
  },
  {
   "cell_type": "code",
   "execution_count": null,
   "metadata": {
    "id": "pSOAJBQGmQ14",
    "outputId": "11ef1137-9640-4314-eafc-6d32b3886b7f"
   },
   "outputs": [
    {
     "name": "stdout",
     "output_type": "stream",
     "text": [
      "         Days completed  Duration  Progress\n",
      "Manager                                    \n",
      "Hirsch            3.875      6.50    59.875\n",
      "Ladd              2.000      4.75    44.625\n",
      "McFay             1.875      7.00    25.750\n",
      "Samora            3.250      6.75    51.625\n",
      "Wood              3.000      8.25    37.000\n"
     ]
    },
    {
     "data": {
      "image/png": "[encoded data removed]",
      "text/plain": [
       "<Figure size 432x288 with 1 Axes>"
      ]
     },
     "metadata": {
      "tags": []
     },
     "output_type": "display_data"
    }
   ],
   "source": [
    "Efficient=pd.pivot_table(data=data, index=[\"Manager\"])\n",
    "print(Efficient)\n",
    "\n",
    "Efficient.plot(kind='bar')\n",
    "plt.legend(loc=\"upper left\",bbox_to_anchor=(1,1))\n",
    "plt.show()"
   ]
  },
  {
   "cell_type": "code",
   "execution_count": null,
   "metadata": {
    "colab": {
     "base_uri": "https://localhost:8080/",
     "height": 542
    },
    "id": "nBHwrYCkmQ15",
    "outputId": "ac58a2ce-9843-4465-8c9b-69843a2abb56"
   },
   "outputs": [
    {
     "data": {
      "text/html": [
       "<html>\n",
       "<head><meta charset=\"utf-8\" /></head>\n",
       "<body>\n",
       "    <div>\n",
       "            <script src=\"https://cdnjs.cloudflare.com/ajax/libs/mathjax/2.7.5/MathJax.js?config=TeX-AMS-MML_SVG\"></script><script type=\"text/javascript\">if (window.MathJax) {MathJax.Hub.Config({SVG: {font: \"STIX-Web\"}});}</script>\n",
       "                <script type=\"text/javascript\">window.PlotlyConfig = {MathJaxConfig: 'local'};</script>\n",
       "        <script src=\"https://cdn.plot.ly/plotly-latest.min.js\"></script>    \n",
       "            <div id=\"2d288c51-cf73-4eb5-88e9-856424314087\" class=\"plotly-graph-div\" style=\"height:525px; width:100%;\"></div>\n",
       "            <script type=\"text/javascript\">\n",
       "                \n",
       "                    window.PLOTLYENV=window.PLOTLYENV || {};\n",
       "                    \n",
       "                if (document.getElementById(\"2d288c51-cf73-4eb5-88e9-856424314087\")) {\n",
       "                    Plotly.newPlot(\n",
       "                        '2d288c51-cf73-4eb5-88e9-856424314087',\n",
       "                        [{\"domain\": {\"x\": [0.0, 1.0], \"y\": [0.0, 1.0]}, \"hoverlabel\": {\"namelength\": 0}, \"hovertemplate\": \"Task=%{label}<br>Progress=%{value}\", \"labels\": [\"Task 3\", \"Task 8\", \"Task 3\", \"Task 8\", \"Task 3\", \"Task 3\", \"Task 1\", \"Task 6\"], \"legendgroup\": \"\", \"name\": \"\", \"showlegend\": true, \"type\": \"pie\", \"values\": [40, 40, 0, 25, 43, 0, 38, 20]}],\n",
       "                        {\"legend\": {\"tracegroupgap\": 0}, \"margin\": {\"t\": 60}, \"template\": {\"data\": {\"bar\": [{\"error_x\": {\"color\": \"#2a3f5f\"}, \"error_y\": {\"color\": \"#2a3f5f\"}, \"marker\": {\"line\": {\"color\": \"#E5ECF6\", \"width\": 0.5}}, \"type\": \"bar\"}], \"barpolar\": [{\"marker\": {\"line\": {\"color\": \"#E5ECF6\", \"width\": 0.5}}, \"type\": \"barpolar\"}], \"carpet\": [{\"aaxis\": {\"endlinecolor\": \"#2a3f5f\", \"gridcolor\": \"white\", \"linecolor\": \"white\", \"minorgridcolor\": \"white\", \"startlinecolor\": \"#2a3f5f\"}, \"baxis\": {\"endlinecolor\": \"#2a3f5f\", \"gridcolor\": \"white\", \"linecolor\": \"white\", \"minorgridcolor\": \"white\", \"startlinecolor\": \"#2a3f5f\"}, \"type\": \"carpet\"}], \"choropleth\": [{\"colorbar\": {\"outlinewidth\": 0, \"ticks\": \"\"}, \"type\": \"choropleth\"}], \"contour\": [{\"colorbar\": {\"outlinewidth\": 0, \"ticks\": \"\"}, \"colorscale\": [[0.0, \"#0d0887\"], [0.1111111111111111, \"#46039f\"], [0.2222222222222222, \"#7201a8\"], [0.3333333333333333, \"#9c179e\"], [0.4444444444444444, \"#bd3786\"], [0.5555555555555556, \"#d8576b\"], [0.6666666666666666, \"#ed7953\"], [0.7777777777777778, \"#fb9f3a\"], [0.8888888888888888, \"#fdca26\"], [1.0, \"#f0f921\"]], \"type\": \"contour\"}], \"contourcarpet\": [{\"colorbar\": {\"outlinewidth\": 0, \"ticks\": \"\"}, \"type\": \"contourcarpet\"}], \"heatmap\": [{\"colorbar\": {\"outlinewidth\": 0, \"ticks\": \"\"}, \"colorscale\": [[0.0, \"#0d0887\"], [0.1111111111111111, \"#46039f\"], [0.2222222222222222, \"#7201a8\"], [0.3333333333333333, \"#9c179e\"], [0.4444444444444444, \"#bd3786\"], [0.5555555555555556, \"#d8576b\"], [0.6666666666666666, \"#ed7953\"], [0.7777777777777778, \"#fb9f3a\"], [0.8888888888888888, \"#fdca26\"], [1.0, \"#f0f921\"]], \"type\": \"heatmap\"}], \"heatmapgl\": [{\"colorbar\": {\"outlinewidth\": 0, \"ticks\": \"\"}, \"colorscale\": [[0.0, \"#0d0887\"], [0.1111111111111111, \"#46039f\"], [0.2222222222222222, \"#7201a8\"], [0.3333333333333333, \"#9c179e\"], [0.4444444444444444, \"#bd3786\"], [0.5555555555555556, \"#d8576b\"], [0.6666666666666666, \"#ed7953\"], [0.7777777777777778, \"#fb9f3a\"], [0.8888888888888888, \"#fdca26\"], [1.0, \"#f0f921\"]], \"type\": \"heatmapgl\"}], \"histogram\": [{\"marker\": {\"colorbar\": {\"outlinewidth\": 0, \"ticks\": \"\"}}, \"type\": \"histogram\"}], \"histogram2d\": [{\"colorbar\": {\"outlinewidth\": 0, \"ticks\": \"\"}, \"colorscale\": [[0.0, \"#0d0887\"], [0.1111111111111111, \"#46039f\"], [0.2222222222222222, \"#7201a8\"], [0.3333333333333333, \"#9c179e\"], [0.4444444444444444, \"#bd3786\"], [0.5555555555555556, \"#d8576b\"], [0.6666666666666666, \"#ed7953\"], [0.7777777777777778, \"#fb9f3a\"], [0.8888888888888888, \"#fdca26\"], [1.0, \"#f0f921\"]], \"type\": \"histogram2d\"}], \"histogram2dcontour\": [{\"colorbar\": {\"outlinewidth\": 0, \"ticks\": \"\"}, \"colorscale\": [[0.0, \"#0d0887\"], [0.1111111111111111, \"#46039f\"], [0.2222222222222222, \"#7201a8\"], [0.3333333333333333, \"#9c179e\"], [0.4444444444444444, \"#bd3786\"], [0.5555555555555556, \"#d8576b\"], [0.6666666666666666, \"#ed7953\"], [0.7777777777777778, \"#fb9f3a\"], [0.8888888888888888, \"#fdca26\"], [1.0, \"#f0f921\"]], \"type\": \"histogram2dcontour\"}], \"mesh3d\": [{\"colorbar\": {\"outlinewidth\": 0, \"ticks\": \"\"}, \"type\": \"mesh3d\"}], \"parcoords\": [{\"line\": {\"colorbar\": {\"outlinewidth\": 0, \"ticks\": \"\"}}, \"type\": \"parcoords\"}], \"pie\": [{\"automargin\": true, \"type\": \"pie\"}], \"scatter\": [{\"marker\": {\"colorbar\": {\"outlinewidth\": 0, \"ticks\": \"\"}}, \"type\": \"scatter\"}], \"scatter3d\": [{\"line\": {\"colorbar\": {\"outlinewidth\": 0, \"ticks\": \"\"}}, \"marker\": {\"colorbar\": {\"outlinewidth\": 0, \"ticks\": \"\"}}, \"type\": \"scatter3d\"}], \"scattercarpet\": [{\"marker\": {\"colorbar\": {\"outlinewidth\": 0, \"ticks\": \"\"}}, \"type\": \"scattercarpet\"}], \"scattergeo\": [{\"marker\": {\"colorbar\": {\"outlinewidth\": 0, \"ticks\": \"\"}}, \"type\": \"scattergeo\"}], \"scattergl\": [{\"marker\": {\"colorbar\": {\"outlinewidth\": 0, \"ticks\": \"\"}}, \"type\": \"scattergl\"}], \"scattermapbox\": [{\"marker\": {\"colorbar\": {\"outlinewidth\": 0, \"ticks\": \"\"}}, \"type\": \"scattermapbox\"}], \"scatterpolar\": [{\"marker\": {\"colorbar\": {\"outlinewidth\": 0, \"ticks\": \"\"}}, \"type\": \"scatterpolar\"}], \"scatterpolargl\": [{\"marker\": {\"colorbar\": {\"outlinewidth\": 0, \"ticks\": \"\"}}, \"type\": \"scatterpolargl\"}], \"scatterternary\": [{\"marker\": {\"colorbar\": {\"outlinewidth\": 0, \"ticks\": \"\"}}, \"type\": \"scatterternary\"}], \"surface\": [{\"colorbar\": {\"outlinewidth\": 0, \"ticks\": \"\"}, \"colorscale\": [[0.0, \"#0d0887\"], [0.1111111111111111, \"#46039f\"], [0.2222222222222222, \"#7201a8\"], [0.3333333333333333, \"#9c179e\"], [0.4444444444444444, \"#bd3786\"], [0.5555555555555556, \"#d8576b\"], [0.6666666666666666, \"#ed7953\"], [0.7777777777777778, \"#fb9f3a\"], [0.8888888888888888, \"#fdca26\"], [1.0, \"#f0f921\"]], \"type\": \"surface\"}], \"table\": [{\"cells\": {\"fill\": {\"color\": \"#EBF0F8\"}, \"line\": {\"color\": \"white\"}}, \"header\": {\"fill\": {\"color\": \"#C8D4E3\"}, \"line\": {\"color\": \"white\"}}, \"type\": \"table\"}]}, \"layout\": {\"annotationdefaults\": {\"arrowcolor\": \"#2a3f5f\", \"arrowhead\": 0, \"arrowwidth\": 1}, \"coloraxis\": {\"colorbar\": {\"outlinewidth\": 0, \"ticks\": \"\"}}, \"colorscale\": {\"diverging\": [[0, \"#8e0152\"], [0.1, \"#c51b7d\"], [0.2, \"#de77ae\"], [0.3, \"#f1b6da\"], [0.4, \"#fde0ef\"], [0.5, \"#f7f7f7\"], [0.6, \"#e6f5d0\"], [0.7, \"#b8e186\"], [0.8, \"#7fbc41\"], [0.9, \"#4d9221\"], [1, \"#276419\"]], \"sequential\": [[0.0, \"#0d0887\"], [0.1111111111111111, \"#46039f\"], [0.2222222222222222, \"#7201a8\"], [0.3333333333333333, \"#9c179e\"], [0.4444444444444444, \"#bd3786\"], [0.5555555555555556, \"#d8576b\"], [0.6666666666666666, \"#ed7953\"], [0.7777777777777778, \"#fb9f3a\"], [0.8888888888888888, \"#fdca26\"], [1.0, \"#f0f921\"]], \"sequentialminus\": [[0.0, \"#0d0887\"], [0.1111111111111111, \"#46039f\"], [0.2222222222222222, \"#7201a8\"], [0.3333333333333333, \"#9c179e\"], [0.4444444444444444, \"#bd3786\"], [0.5555555555555556, \"#d8576b\"], [0.6666666666666666, \"#ed7953\"], [0.7777777777777778, \"#fb9f3a\"], [0.8888888888888888, \"#fdca26\"], [1.0, \"#f0f921\"]]}, \"colorway\": [\"#636efa\", \"#EF553B\", \"#00cc96\", \"#ab63fa\", \"#FFA15A\", \"#19d3f3\", \"#FF6692\", \"#B6E880\", \"#FF97FF\", \"#FECB52\"], \"font\": {\"color\": \"#2a3f5f\"}, \"geo\": {\"bgcolor\": \"white\", \"lakecolor\": \"white\", \"landcolor\": \"#E5ECF6\", \"showlakes\": true, \"showland\": true, \"subunitcolor\": \"white\"}, \"hoverlabel\": {\"align\": \"left\"}, \"hovermode\": \"closest\", \"mapbox\": {\"style\": \"light\"}, \"paper_bgcolor\": \"white\", \"plot_bgcolor\": \"#E5ECF6\", \"polar\": {\"angularaxis\": {\"gridcolor\": \"white\", \"linecolor\": \"white\", \"ticks\": \"\"}, \"bgcolor\": \"#E5ECF6\", \"radialaxis\": {\"gridcolor\": \"white\", \"linecolor\": \"white\", \"ticks\": \"\"}}, \"scene\": {\"xaxis\": {\"backgroundcolor\": \"#E5ECF6\", \"gridcolor\": \"white\", \"gridwidth\": 2, \"linecolor\": \"white\", \"showbackground\": true, \"ticks\": \"\", \"zerolinecolor\": \"white\"}, \"yaxis\": {\"backgroundcolor\": \"#E5ECF6\", \"gridcolor\": \"white\", \"gridwidth\": 2, \"linecolor\": \"white\", \"showbackground\": true, \"ticks\": \"\", \"zerolinecolor\": \"white\"}, \"zaxis\": {\"backgroundcolor\": \"#E5ECF6\", \"gridcolor\": \"white\", \"gridwidth\": 2, \"linecolor\": \"white\", \"showbackground\": true, \"ticks\": \"\", \"zerolinecolor\": \"white\"}}, \"shapedefaults\": {\"line\": {\"color\": \"#2a3f5f\"}}, \"ternary\": {\"aaxis\": {\"gridcolor\": \"white\", \"linecolor\": \"white\", \"ticks\": \"\"}, \"baxis\": {\"gridcolor\": \"white\", \"linecolor\": \"white\", \"ticks\": \"\"}, \"bgcolor\": \"#E5ECF6\", \"caxis\": {\"gridcolor\": \"white\", \"linecolor\": \"white\", \"ticks\": \"\"}}, \"title\": {\"x\": 0.05}, \"xaxis\": {\"automargin\": true, \"gridcolor\": \"white\", \"linecolor\": \"white\", \"ticks\": \"\", \"title\": {\"standoff\": 15}, \"zerolinecolor\": \"white\", \"zerolinewidth\": 2}, \"yaxis\": {\"automargin\": true, \"gridcolor\": \"white\", \"linecolor\": \"white\", \"ticks\": \"\", \"title\": {\"standoff\": 15}, \"zerolinecolor\": \"white\", \"zerolinewidth\": 2}}}, \"title\": {\"text\": \"AVERAGE PROGRESS FOR EACH MANAGER\", \"x\": 0.5}},\n",
       "                        {\"responsive\": true}\n",
       "                    ).then(function(){\n",
       "                            \n",
       "var gd = document.getElementById('2d288c51-cf73-4eb5-88e9-856424314087');\n",
       "var x = new MutationObserver(function (mutations, observer) {{\n",
       "        var display = window.getComputedStyle(gd).display;\n",
       "        if (!display || display === 'none') {{\n",
       "            console.log([gd, 'removed!']);\n",
       "            Plotly.purge(gd);\n",
       "            observer.disconnect();\n",
       "        }}\n",
       "}});\n",
       "\n",
       "// Listen for the removal of the full notebook cells\n",
       "var notebookContainer = gd.closest('#notebook-container');\n",
       "if (notebookContainer) {{\n",
       "    x.observe(notebookContainer, {childList: true});\n",
       "}}\n",
       "\n",
       "// Listen for the clearing of the current output cell\n",
       "var outputEl = gd.closest('.output');\n",
       "if (outputEl) {{\n",
       "    x.observe(outputEl, {childList: true});\n",
       "}}\n",
       "\n",
       "                        })\n",
       "                };\n",
       "                \n",
       "            </script>\n",
       "        </div>\n",
       "</body>\n",
       "</html>"
      ]
     },
     "metadata": {
      "tags": []
     },
     "output_type": "display_data"
    }
   ],
   "source": [
    "fig_pie_m=px.pie(data_frame=data,names='Manager',values='Progress')\n",
    "fig_pie.update_layout(title_text='AVERAGE PROGRESS FOR EACH MANAGER', title_x=0.5)\n",
    "fig_pie.show()"
   ]
  }
 ],
 "metadata": {
  "colab": {
   "collapsed_sections": [
    "J_sS_SRkmQ1x"
   ],
   "name": "mechonyx-17.5.2021.ipynb",
   "provenance": [],
   "toc_visible": true
  },
  "kernelspec": {
   "display_name": "Python 3",
   "language": "python",
   "name": "python3"
  },
  "language_info": {
   "codemirror_mode": {
    "name": "ipython",
    "version": 3
   },
   "file_extension": ".py",
   "mimetype": "text/x-python",
   "name": "python",
   "nbconvert_exporter": "python",
   "pygments_lexer": "ipython3",
   "version": "3.7.6"
  }
 },
 "nbformat": 4,
 "nbformat_minor": 1
}
